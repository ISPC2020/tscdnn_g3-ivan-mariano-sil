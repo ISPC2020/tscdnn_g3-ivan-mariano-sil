{
 "cells": [
  {
   "cell_type": "markdown",
   "metadata": {},
   "source": [
    "<h1 style=\"font-family: Georgia; font-size:3em;color:#2462C0; font-style:bold\">\n",
    "Coding Neural Network - Forward Propagation and Backpropagation\n",
    "</h1><br>"
   ]
  },
  {
   "cell_type": "markdown",
   "metadata": {},
   "source": [
    "**Why Neural Networks?**\n",
    "\n",
    "According to *Universal Approximate Theorem*, Neural Networks can approximate as well as learn and represent any function given a large enough layer and desired error margin. The way neural network learns the true function is by building complex representations on top of simple ones. On each hidden layer, the neural network learns new feature space by first compute the affine (linear) transformations of the given inputs and then apply non-linear function which in turn will be the input of the next layer. This process will continue until we reach the output layer. Therefore, we can define neural network as information flows from inputs through hidden layers towards the output. For a 3-layers neural network, the learned function would be: $f(x) = f_3(f_2(f_1(x)))$ where:\n",
    "- $f_1(x)$: Function learned on first hidden layer\n",
    "- $f_2(x)$: Function learned on second hidden layer\n",
    "- $f_3(x)$: Function learned on output layer\n",
    "\n",
    "Therefore, on each layer we learn different representation that gets more complicated with later hidden layers.Below is an example of a 3-layers neural network (we don't count input layer):\n",
    "<p align=\"center\">\n",
    "<img src=\"images/neural_net.jpg\"><br>\n",
    "<caption><center><u><b><font color=\"purple\">Figure 1:</font></b></u> Neural Network with two hidden layers</center></caption>\n",
    "</p>"
   ]
  },
  {
   "cell_type": "markdown",
   "metadata": {},
   "source": [
    "For example, computers can't understand images directly and don't know what to do with pixels data. However, a neural network can build a simple representation of the image in the early hidden layers that identifies edges. Given the first hidden layer output, it can learn corners and contours. Given the second hidden layer, it can learn parts such as nose. Finally, it can learn the object identity.\n",
    "\n",
    "Since **truth is never linear** and representation is very critical to the performance of a machine learning algorithm, neural network can help us build very complex models and leave it to the algorithm to learn such representations without worrying about feature engineering that takes practitioners very long time and effort to curate a good representation. \n",
    "\n",
    "The notebook has two parts:\n",
    "1. [Coding the neural network](#Coding the NN): This entails writing all the helper functions that would allow us to implement a multi-layer neural network. While doing so, I'll explain the theoretical parts whenever possible and give some advices on implementations.\n",
    "2. [Application](#Application): We'll implement the neural network we coded in the first part on image recognition problem to see if the network we built will be able to detect if the image has a cat or a dog and see it working :)"
   ]
  },
  {
   "cell_type": "code",
   "execution_count": 8,
   "metadata": {
    "code_folding": [
     0
    ]
   },
   "outputs": [],
   "source": [
    "# Import packages\n",
    "import os as os\n",
    "\n",
    "import h5py\n",
    "import matplotlib.pyplot as plt\n",
    "import numpy as np\n",
    "import seaborn as sns\n",
    "\n",
    "%matplotlib inline\n",
    "sns.set_context(\"notebook\")\n",
    "plt.style.use(\"fivethirtyeight\")"
   ]
  },
  {
   "cell_type": "markdown",
   "metadata": {},
   "source": [
    "<a id=\"Coding the NN\"></a>"
   ]
  },
  {
   "cell_type": "markdown",
   "metadata": {},
   "source": [
    "<h2 style=\"font-family: Georgia; font-size:2em;color:purple; font-style:bold\">\n",
    "I. Coding The Neural Network\n",
    "</h2>"
   ]
  },
  {
   "cell_type": "markdown",
   "metadata": {},
   "source": [
    "<h3 style=\"font-family: Georgia; font-size:1.5em;color:purple; font-style:bold\">\n",
    "Forward Propagation\n",
    "</h3>"
   ]
  },
  {
   "cell_type": "markdown",
   "metadata": {},
   "source": [
    "The input $X$ provides the initial information that then propagates to the hidden units at each layer and finally produce the output $\\widehat{Y}$. The architecture of the network entails determining its depth, width, and activation functions used on each layer. **Depth** is the number of hidden layers. **Width** is the number of units (nodes) on each hidden layer since we don't control neither input layer nor output layer dimensions. There are quite a few set of activation functions such *Rectified Linear Unit, Sigmoid, Hyperbolic tangent, etc*. Research has proven that deeper networks outperform networks with more hidden units. Therefore, it's always better and won't hurt to train a deeper network (with diminishing returns).\n",
    "\n",
    "Lets first introduce some notations that will be used throughout the notebook:\n",
    "* $W^l$: Weights matrix for the $l^{th}$ layer\n",
    "* $b^l$: Bias vector for the $l^{th}$ layer\n",
    "* $Z^l$: Linear (affine) transformations of given inputs for the $l^{th}$ layer\n",
    "* $g^l$: Activation function applied on the $l^{th}$ layer\n",
    "* $A^l$: Post-activation output for the $l^{th}$ layer\n",
    "* $dW^l$: Derivative of the cost function w.r.t  $W^l$ ($\\frac{\\partial J}{\\partial W^l}$)\n",
    "* $db^l$: Derivative of the cost function w.r.t $b^l$ ($\\frac{\\partial J}{\\partial b^l})$)\n",
    "* $dZ^l$: Derivative of the cost function w.r.t $Z^l$ ($\\frac{\\partial J}{\\partial Z^l}$)\n",
    "* $dA^l$: Derivative of the cost function w.r.t $A^l$ ($\\frac{\\partial J}{\\partial A^l}$)\n",
    "* $n^l$: Number of units (nodes) of the $l^{th}$ layer\n",
    "* $m$: Number of examples\n",
    "* $L$: Number of layers in the network (not including the input layer)\n",
    "\n",
    "Next, we'll write down the dimensions of a multi-layer neural network in the general form to help us in matrix multiplication because one of the major challenges in implementing a neural network is getting the dimensions right.\n",
    "* $W^l,\\ dW^l$: Number of units (nodes) in $l^{th}$ layer x Number of units (nodes) in $l - 1$ layer\n",
    "* $b^l,\\ db^l$: Number of units (nodes) in $l^{th}$ layer x 1\n",
    "* $Z^l,\\ dZ^l$: Number of units (nodes) in $l^{th}$ layer x number of examples\n",
    "* $A^l,\\ dA^l$: Number of units (nodes) in $l^{th}$ layer x number of examples\n",
    "\n",
    "The two equations we need to implement forward propagations are:\n",
    "$$Z^l = W^lA^{l - 1} + b ^l\\tag1\\\\{}$$\n",
    "$$A^l = g^l(Z^l) = g^l(W^lA^{l - 1} + b ^l)\\tag2$$\n",
    "These computations will take place on each layer."
   ]
  },
  {
   "cell_type": "markdown",
   "metadata": {},
   "source": [
    "<h3 style=\"font-family: Georgia; font-size:1.3em;color:purple; font-style:bold\">\n",
    "Parameters Initialization\n",
    "</h3><br>\n",
    "We'll first initialize the weight matrices and the bias vectors. It's important to note that we shouldn't initialize all the parameters to zero because doing so will lead the gradients to be equal and on each iteration the output would be the same and the learning algorithm won't learn anything. Therefore, it's important to randomly initialize the parameters to values between 0 and 1. It's also recommended to multiply the random values by small scalar such as 0.01 to make the activation units active and be on the regions where activation functions' derivatives are not close to zero."
   ]
  },
  {
   "cell_type": "code",
   "execution_count": 9,
   "metadata": {
    "code_folding": [
     0
    ]
   },
   "outputs": [],
   "source": [
    "# Initialize parameters\n",
    "def initialize_parameters(layers_dims):\n",
    "    \"\"\"\n",
    "    Initialize parameters dictionary.\n",
    "    \n",
    "    Weight matrices will be initialized to random values from uniform normal\n",
    "    distribution.\n",
    "    bias vectors will be initialized to zeros.\n",
    "\n",
    "    Arguments\n",
    "    ---------\n",
    "    layers_dims : list or array-like\n",
    "        dimensions of each layer in the network.\n",
    "\n",
    "    Returns\n",
    "    -------\n",
    "    parameters : dict\n",
    "        weight matrix and the bias vector for each layer.\n",
    "    \"\"\"\n",
    "    np.random.seed(1)               \n",
    "    parameters = {}\n",
    "    L = len(layers_dims)            \n",
    "\n",
    "    for l in range(1, L):           \n",
    "        parameters[\"W\" + str(l)] = np.random.randn(\n",
    "            layers_dims[l], layers_dims[l - 1]) * 0.01\n",
    "        parameters[\"b\" + str(l)] = np.zeros((layers_dims[l], 1))\n",
    "\n",
    "        assert parameters[\"W\" + str(l)].shape == (\n",
    "            layers_dims[l], layers_dims[l - 1])\n",
    "        assert parameters[\"b\" + str(l)].shape == (layers_dims[l], 1)\n",
    "\n",
    "    return parameters"
   ]
  },
  {
   "cell_type": "markdown",
   "metadata": {},
   "source": [
    "<h3 style=\"font-family: Georgia; font-size:1.3em;color:purple; font-style:bold\">\n",
    "Activation Functions\n",
    "</h3><br>\n",
    "There is no definitive guide for which activation function works best on specific problems. It's a trial and error process where one should try different set of functions and see which one works best on the problem at hand. We'll cover 4 of the most commonly used activation functions:\n",
    "- **Sigmoid function ($\\sigma$)**: $g(z) = \\frac{1}{1 + e^{-z}}$. It's recommended to be used only on the output layer so that we can easily interpret the output as probabilities since it has restricted output between 0 and 1. One of the main disadvantages for using sigmoid function on hidden layers is that the gradient is very close to zero over a large portion of its domain which makes it slow and harder for the learning algorithm to learn.\n",
    "- **Hyperbolic Tangent function**: $g(z) = \\frac{e^z - e^{-z}}{e^z + e^{-z}}$. It's superior to sigmoid function in which the mean of its output is very close to zero, which in other words center the output of the activation units around zero and make the range of values very small which means faster to learn. The disadvantage that it shares with sigmoid function is that the gradient is very small on good portion of the domain.\n",
    "- **Rectified Linear Unit (ReLU)**: $g(z) = max\\{0, z\\}$. The models that are close to linear are easy to optimize. Since ReLU shares a lot of the properties of linear functions, it tends to work well on most of the problems. The only issue is that the derivative is not defined at $z = 0$, which we can overcome by assigning the derivative to 0 at $z = 0$. However, this means that for $z\\leq 0$ the gradient is zero and again can't learn.\n",
    "- **Leaky Rectified Linear Unit**: $g(z) = max\\{\\alpha*z, z\\}$. It overcomes the zero gradient issue from ReLU and assigns $\\alpha$ which is a small value for $z\\leq 0$.\n",
    "\n",
    "If you're not sure which activation function to choose, start with ReLU.\n",
    "\n",
    "Next, we'll implement the above activation functions and draw a graph for each one to make it easier to see the domain and range of each function."
   ]
  },
  {
   "cell_type": "code",
   "execution_count": 10,
   "metadata": {
    "code_folding": [
     0
    ]
   },
   "outputs": [],
   "source": [
    "# Define activation functions that will be used in forward propagation\n",
    "def sigmoid(Z):\n",
    "    \"\"\"\n",
    "    Computes the sigmoid of Z element-wise.\n",
    "\n",
    "    Arguments\n",
    "    ---------\n",
    "    Z : array\n",
    "        output of affine transformation.\n",
    "\n",
    "    Returns\n",
    "    -------\n",
    "    A : array\n",
    "        post activation output.\n",
    "    Z : array\n",
    "        output of affine transformation.\n",
    "    \"\"\"\n",
    "    A = 1 / (1 + np.exp(-Z))\n",
    "\n",
    "    return A, Z\n",
    "\n",
    "\n",
    "def tanh(Z):\n",
    "    \"\"\"\n",
    "    Computes the Hyperbolic Tagent of Z elemnet-wise.\n",
    "\n",
    "    Arguments\n",
    "    ---------\n",
    "    Z : array\n",
    "        output of affine transformation.\n",
    "\n",
    "    Returns\n",
    "    -------\n",
    "    A : array\n",
    "        post activation output.\n",
    "    Z : array\n",
    "        output of affine transformation.\n",
    "    \"\"\"\n",
    "    A = np.tanh(Z)\n",
    "\n",
    "    return A, Z\n",
    "\n",
    "\n",
    "def relu(Z):\n",
    "    \"\"\"\n",
    "    Computes the Rectified Linear Unit (ReLU) element-wise.\n",
    "\n",
    "    Arguments\n",
    "    ---------\n",
    "    Z : array\n",
    "        output of affine transformation.\n",
    "\n",
    "    Returns\n",
    "    -------\n",
    "    A : array\n",
    "        post activation output.\n",
    "    Z : array\n",
    "        output of affine transformation.\n",
    "    \"\"\"\n",
    "    A = np.maximum(0, Z)\n",
    "\n",
    "    return A, Z\n",
    "\n",
    "\n",
    "def leaky_relu(Z):\n",
    "    \"\"\"\n",
    "    Computes Leaky Rectified Linear Unit element-wise.\n",
    "\n",
    "    Arguments\n",
    "    ---------\n",
    "    Z : array\n",
    "        output of affine transformation.\n",
    "\n",
    "    Returns\n",
    "    -------\n",
    "    A : array\n",
    "        post activation output.\n",
    "    Z : array\n",
    "        output of affine transformation.\n",
    "    \"\"\"\n",
    "    A = np.maximum(0.1 * Z, Z)\n",
    "\n",
    "    return A, Z"
   ]
  },
  {
   "cell_type": "code",
   "execution_count": 4,
   "metadata": {
    "code_folding": [
     0
    ]
   },
   "outputs": [
    {
     "data": {
      "text/plain": [
       "<Figure size 864x576 with 4 Axes>"
      ]
     },
     "metadata": {},
     "output_type": "display_data"
    }
   ],
   "source": [
    "# Plot the 4 activation functions\n",
    "z = np.linspace(-10, 10, 100)\n",
    "\n",
    "# Computes post-activation outputs\n",
    "A_sigmoid, z = sigmoid(z)\n",
    "A_tanh, z = tanh(z)\n",
    "A_relu, z = relu(z)\n",
    "A_leaky_relu, z = leaky_relu(z)\n",
    "\n",
    "# Plot sigmoid\n",
    "plt.figure(figsize=(12, 8))\n",
    "plt.subplot(2, 2, 1)\n",
    "plt.plot(z, A_sigmoid, label = \"Function\")\n",
    "plt.plot(z, A_sigmoid * (1 - A_sigmoid), label = \"Derivative\")\n",
    "plt.legend(loc = \"upper left\")\n",
    "plt.xlabel(\"z\")\n",
    "plt.ylabel(r\"$\\frac{1}{1 + e^{-z}}$\")\n",
    "plt.title(\"Sigmoid Function\", fontsize = 16)\n",
    "# Plot tanh\n",
    "plt.subplot(2, 2, 2)\n",
    "plt.plot(z, A_tanh, 'b', label = \"Function\")\n",
    "plt.plot(z, 1 - np.square(A_tanh), 'r',label = \"Derivative\")\n",
    "plt.legend(loc = \"upper left\")\n",
    "plt.xlabel(\"z\")\n",
    "plt.ylabel(r\"$\\frac{e^z - e^{-z}}{e^z + e^{-z}}$\")\n",
    "plt.title(\"Hyperbolic Tangent Function\", fontsize = 16)\n",
    "# plot relu\n",
    "plt.subplot(2, 2, 3)\n",
    "plt.plot(z, A_relu, 'g')\n",
    "plt.xlabel(\"z\")\n",
    "plt.ylabel(r\"$max\\{0, z\\}$\")\n",
    "plt.title(\"ReLU Function\", fontsize = 16)\n",
    "# plot leaky relu\n",
    "plt.subplot(2, 2, 4)\n",
    "plt.plot(z, A_leaky_relu, 'y')\n",
    "plt.xlabel(\"z\")\n",
    "plt.ylabel(r\"$max\\{0.1z, z\\}$\")\n",
    "plt.title(\"Leaky ReLU Function\", fontsize = 16)\n",
    "plt.tight_layout();"
   ]
  },
  {
   "cell_type": "markdown",
   "metadata": {},
   "source": [
    "<h3 style=\"font-family: Georgia; font-size:1.3em;color:purple; font-style:bold\">\n",
    "Feed Forward\n",
    "</h3><br>\n",
    "Given its inputs from previous layer, each unit computes affine transformation $z = W^Tx + b$ and then apply an activation function $g(z)$ such as ReLU element-wise. During the process, we'll store (cache) all variables computed and used on each layer to be used in back-propagation. We'll write first two helper functions that will be used in the L-model forward propagation to make it easier to debug. Keep in mind that on each layer, we may have different activation function."
   ]
  },
  {
   "cell_type": "code",
   "execution_count": 11,
   "metadata": {
    "code_folding": [
     0
    ]
   },
   "outputs": [],
   "source": [
    "# Define helper functions that will be used in L-model forward prop\n",
    "def linear_forward(A_prev, W, b):\n",
    "    \"\"\"\n",
    "    Computes affine transformation of the input.\n",
    "\n",
    "    Arguments\n",
    "    ---------\n",
    "    A_prev : 2d-array\n",
    "        activations output from previous layer.\n",
    "    W : 2d-array\n",
    "        weight matrix, shape: size of current layer x size of previuos layer.\n",
    "    b : 2d-array\n",
    "        bias vector, shape: size of current layer x 1.\n",
    "\n",
    "    Returns\n",
    "    -------\n",
    "    Z : 2d-array\n",
    "        affine transformation output.\n",
    "    cache : tuple\n",
    "        stores A_prev, W, b to be used in backpropagation.\n",
    "    \"\"\"\n",
    "    Z = np.dot(W, A_prev) + b\n",
    "    cache = (A_prev, W, b)\n",
    "\n",
    "    return Z, cache\n",
    "\n",
    "\n",
    "def linear_activation_forward(A_prev, W, b, activation_fn):\n",
    "    \"\"\"\n",
    "    Computes post-activation output using non-linear activation function.\n",
    "\n",
    "    Arguments\n",
    "    ---------\n",
    "    A_prev : 2d-array\n",
    "        activations output from previous layer.\n",
    "    W : 2d-array\n",
    "        weight matrix, shape: size of current layer x size of previuos layer.\n",
    "    b : 2d-array\n",
    "        bias vector, shape: size of current layer x 1.\n",
    "    activation_fn : str\n",
    "        non-linear activation function to be used: \"sigmoid\", \"tanh\", \"relu\".\n",
    "\n",
    "    Returns\n",
    "    -------\n",
    "    A : 2d-array\n",
    "        output of the activation function.\n",
    "    cache : tuple\n",
    "        stores linear_cache and activation_cache. ((A_prev, W, b), Z) to be used in backpropagation.\n",
    "    \"\"\"\n",
    "    assert activation_fn == \"sigmoid\" or activation_fn == \"tanh\" or \\\n",
    "        activation_fn == \"relu\"\n",
    "\n",
    "    if activation_fn == \"sigmoid\":\n",
    "        Z, linear_cache = linear_forward(A_prev, W, b)\n",
    "        A, activation_cache = sigmoid(Z)\n",
    "\n",
    "    elif activation_fn == \"tanh\":\n",
    "        Z, linear_cache = linear_forward(A_prev, W, b)\n",
    "        A, activation_cache = tanh(Z)\n",
    "\n",
    "    elif activation_fn == \"relu\":\n",
    "        Z, linear_cache = linear_forward(A_prev, W, b)\n",
    "        A, activation_cache = relu(Z)\n",
    "\n",
    "    assert A.shape == (W.shape[0], A_prev.shape[1])\n",
    "\n",
    "    cache = (linear_cache, activation_cache)\n",
    "\n",
    "    return A, cache\n",
    "\n",
    "\n",
    "def L_model_forward(X, parameters, hidden_layers_activation_fn=\"relu\"):\n",
    "    \"\"\"\n",
    "    Computes the output layer through looping over all units in topological\n",
    "    order.\n",
    "\n",
    "    Arguments\n",
    "    ---------\n",
    "    X : 2d-array\n",
    "        input matrix of shape input_size x training_examples.\n",
    "    parameters : dict\n",
    "        contains all the weight matrices and bias vectors for all layers.\n",
    "    hidden_layers_activation_fn : str\n",
    "        activation function to be used on hidden layers: \"tanh\", \"relu\".\n",
    "\n",
    "    Returns\n",
    "    -------\n",
    "    AL : 2d-array\n",
    "        probability vector of shape 1 x training_examples.\n",
    "    caches : list\n",
    "        that contains L tuples where each layer has: A_prev, W, b, Z.\n",
    "    \"\"\"\n",
    "    A = X                           \n",
    "    caches = []                     \n",
    "    L = len(parameters) // 2        \n",
    "\n",
    "    for l in range(1, L):\n",
    "        A_prev = A\n",
    "        A, cache = linear_activation_forward(\n",
    "            A_prev, parameters[\"W\" + str(l)], parameters[\"b\" + str(l)],\n",
    "            activation_fn=hidden_layers_activation_fn)\n",
    "        caches.append(cache)\n",
    "\n",
    "    AL, cache = linear_activation_forward(\n",
    "        A, parameters[\"W\" + str(L)], parameters[\"b\" + str(L)],\n",
    "        activation_fn=\"sigmoid\")\n",
    "    caches.append(cache)\n",
    "\n",
    "    assert AL.shape == (1, X.shape[1])\n",
    "\n",
    "    return AL, caches"
   ]
  },
  {
   "cell_type": "markdown",
   "metadata": {},
   "source": [
    "<h3 style=\"font-family: Georgia; font-size:1.3em;color:purple; font-style:bold\">\n",
    "Cost\n",
    "</h3><br>\n",
    "\n",
    "https://math.stackexchange.com/questions/886555/deriving-cost-function-using-mle-why-use-log-function\n",
    "\n",
    "We'll use the binary **Cross-Entropy** cost. It uses the log-likelihood method to estimate its error. The cost is:\n",
    "$$J(W, b) = -\\frac{1}{m}\\sum_{i = 1}^m\\big(y^ilog(\\widehat{y^i}) + (1 - y^i)log(1 - \\widehat{y^i})\\big)\\tag3$$\n",
    "The above cost function is convex; however, neural network usually stuck on a local minimum and is not guaranteed to find the optimal parameters. We'll use here gradient-based learning."
   ]
  },
  {
   "cell_type": "code",
   "execution_count": 12,
   "metadata": {
    "code_folding": [
     0
    ]
   },
   "outputs": [],
   "source": [
    "# Compute cross-entropy cost\n",
    "def compute_cost(AL, y):\n",
    "    \"\"\"\n",
    "    Computes the binary Cross-Entropy cost.\n",
    "\n",
    "    Arguments\n",
    "    ---------\n",
    "    AL : 2d-array\n",
    "        probability vector of shape 1 x training_examples.\n",
    "    y : 2d-array\n",
    "        true \"label\" vector.\n",
    "\n",
    "    Returns\n",
    "    -------\n",
    "    cost : float\n",
    "        binary cross-entropy cost.\n",
    "    \"\"\"\n",
    "    m = y.shape[1]              \n",
    "    cost = - (1 / m) * np.sum(\n",
    "        np.multiply(y, np.log(AL)) + np.multiply(1 - y, np.log(1 - AL)))\n",
    "\n",
    "    return cost"
   ]
  },
  {
   "cell_type": "markdown",
   "metadata": {},
   "source": [
    "<h2 style=\"font-family: Georgia; font-size:1.5em;color:purple; font-style:bold\">\n",
    "Back-Propagation\n",
    "</h2>"
   ]
  },
  {
   "cell_type": "markdown",
   "metadata": {},
   "source": [
    "Backpropagation allows the information to go back from the cost backward through the network in order to compute the gradient. Therefore, loop over the nodes starting at the final node in reverse topological order to compute the derivative of the final node output with respect to each edge's node tail. Doing so will help us know who is responsible for the most error and change the parameters in that direction. The following derivatives' formulas will help us write the back-propagate functions:\n",
    "$$dA^L = \\frac{A^L - Y}{A^L(1 - A^L)}\\tag4\\\\{}$$\n",
    "$$dZ^L = A^L - Y\\tag5\\\\{}$$\n",
    "$$dW^l = \\frac{1}{m}dZ^l{A^{l - 1}}^T\\tag6\\\\{}$$\n",
    "$$db^l = \\frac{1}{m}\\sum_i(dZ^l)\\tag7\\\\{}$$\n",
    "$$dA^{l - 1} = {W^l}^TdZ^l\\tag8\\\\{}$$\n",
    "$$dZ^{l} = dA^l*g^{'l}(Z^l)\\tag9\\\\{}$$\n",
    "Since $b^l$ is always a vector, the sum would be across rows (since each column is an example)."
   ]
  },
  {
   "cell_type": "code",
   "execution_count": 13,
   "metadata": {
    "code_folding": [
     0
    ]
   },
   "outputs": [],
   "source": [
    "# Define derivative of activation functions w.r.t z that will be used in back-propagation\n",
    "def sigmoid_gradient(dA, Z):\n",
    "    \"\"\"\n",
    "    Computes the gradient of sigmoid output w.r.t input Z.\n",
    "\n",
    "    Arguments\n",
    "    ---------\n",
    "    dA : 2d-array\n",
    "        post-activation gradient, of any shape.\n",
    "    Z : 2d-array\n",
    "        input used for the activation fn on this layer.\n",
    "\n",
    "    Returns\n",
    "    -------\n",
    "    dZ : 2d-array\n",
    "        gradient of the cost with respect to Z.\n",
    "    \"\"\"\n",
    "    A, Z = sigmoid(Z)\n",
    "    dZ = dA * A * (1 - A)\n",
    "\n",
    "    return dZ\n",
    "\n",
    "\n",
    "def tanh_gradient(dA, Z):\n",
    "    \"\"\"\n",
    "    Computes the gradient of hyperbolic tangent output w.r.t input Z.\n",
    "\n",
    "    Arguments\n",
    "    ---------\n",
    "    dA : 2d-array\n",
    "        post-activation gradient, of any shape.\n",
    "    Z : 2d-array\n",
    "        input used for the activation fn on this layer.\n",
    "\n",
    "    Returns\n",
    "    -------\n",
    "    dZ : 2d-array\n",
    "        gradient of the cost with respect to Z.\n",
    "    \"\"\"\n",
    "    A, Z = tanh(Z)\n",
    "    dZ = dA * (1 - np.square(A))\n",
    "\n",
    "    return dZ\n",
    "\n",
    "\n",
    "def relu_gradient(dA, Z):\n",
    "    \"\"\"\n",
    "    Computes the gradient of ReLU output w.r.t input Z.\n",
    "\n",
    "    Arguments\n",
    "    ---------\n",
    "    dA : 2d-array\n",
    "        post-activation gradient, of any shape.\n",
    "    Z : 2d-array\n",
    "        input used for the activation fn on this layer.\n",
    "\n",
    "    Returns\n",
    "    -------\n",
    "    dZ : 2d-array\n",
    "        gradient of the cost with respect to Z.\n",
    "    \"\"\"\n",
    "    A, Z = relu(Z)\n",
    "    dZ = np.multiply(dA, np.int64(A > 0))\n",
    "\n",
    "    return dZ\n",
    "\n",
    "\n",
    "# define helper functions that will be used in L-model back-prop\n",
    "def linear_backword(dZ, cache):\n",
    "    \"\"\"\n",
    "    Computes the gradient of the output w.r.t weight, bias, and post-activation\n",
    "    output of (l - 1) layers at layer l.\n",
    "\n",
    "    Arguments\n",
    "    ---------\n",
    "    dZ : 2d-array\n",
    "        gradient of the cost w.r.t. the linear output (of current layer l).\n",
    "    cache : tuple\n",
    "        values of (A_prev, W, b) coming from the forward propagation in the current layer.\n",
    "\n",
    "    Returns\n",
    "    -------\n",
    "    dA_prev : 2d-array\n",
    "        gradient of the cost w.r.t. the activation (of the previous layer l-1).\n",
    "    dW : 2d-array\n",
    "        gradient of the cost w.r.t. W (current layer l).\n",
    "    db : 2d-array\n",
    "        gradient of the cost w.r.t. b (current layer l).\n",
    "    \"\"\"\n",
    "    A_prev, W, b = cache\n",
    "    m = A_prev.shape[1]\n",
    "\n",
    "    dW = (1 / m) * np.dot(dZ, A_prev.T)\n",
    "    db = (1 / m) * np.sum(dZ, axis=1, keepdims=True)\n",
    "    dA_prev = np.dot(W.T, dZ)\n",
    "\n",
    "    assert dA_prev.shape == A_prev.shape\n",
    "    assert dW.shape == W.shape\n",
    "    assert db.shape == b.shape\n",
    "\n",
    "    return dA_prev, dW, db\n",
    "\n",
    "\n",
    "def linear_activation_backward(dA, cache, activation_fn):\n",
    "    \"\"\"\n",
    "    Arguments\n",
    "    ---------\n",
    "    dA : 2d-array\n",
    "        post-activation gradient for current layer l.\n",
    "    cache : tuple\n",
    "        values of (linear_cache, activation_cache).\n",
    "    activation : str\n",
    "        activation used in this layer: \"sigmoid\", \"tanh\", or \"relu\".\n",
    "\n",
    "    Returns\n",
    "    -------\n",
    "    dA_prev : 2d-array\n",
    "        gradient of the cost w.r.t. the activation (of the previous layer l-1), same shape as A_prev.\n",
    "    dW : 2d-array\n",
    "        gradient of the cost w.r.t. W (current layer l), same shape as W.\n",
    "    db : 2d-array\n",
    "        gradient of the cost w.r.t. b (current layer l), same shape as b.\n",
    "    \"\"\"\n",
    "    linear_cache, activation_cache = cache\n",
    "\n",
    "    if activation_fn == \"sigmoid\":\n",
    "        dZ = sigmoid_gradient(dA, activation_cache)\n",
    "        dA_prev, dW, db = linear_backword(dZ, linear_cache)\n",
    "\n",
    "    elif activation_fn == \"tanh\":\n",
    "        dZ = tanh_gradient(dA, activation_cache)\n",
    "        dA_prev, dW, db = linear_backword(dZ, linear_cache)\n",
    "\n",
    "    elif activation_fn == \"relu\":\n",
    "        dZ = relu_gradient(dA, activation_cache)\n",
    "        dA_prev, dW, db = linear_backword(dZ, linear_cache)\n",
    "\n",
    "    return dA_prev, dW, db\n",
    "\n",
    "\n",
    "def L_model_backward(AL, y, caches, hidden_layers_activation_fn=\"relu\"):\n",
    "    \"\"\"\n",
    "    Computes the gradient of output layer w.r.t weights, biases, etc. starting\n",
    "    on the output layer in reverse topological order.\n",
    "\n",
    "    Arguments\n",
    "    ---------\n",
    "    AL : 2d-array\n",
    "        probability vector, output of the forward propagation (L_model_forward()).\n",
    "    y : 2d-array\n",
    "        true \"label\" vector (containing 0 if non-cat, 1 if cat).\n",
    "    caches : list\n",
    "        list of caches for all layers.\n",
    "    hidden_layers_activation_fn :\n",
    "        activation function used on hidden layers: \"tanh\", \"relu\".\n",
    "\n",
    "    Returns\n",
    "    -------\n",
    "    grads : dict\n",
    "        with the gradients.\n",
    "    \"\"\"\n",
    "    y = y.reshape(AL.shape)\n",
    "    L = len(caches)\n",
    "    grads = {}\n",
    "\n",
    "    dAL = np.divide(AL - y, np.multiply(AL, 1 - AL))\n",
    "\n",
    "    grads[\"dA\" + str(L - 1)], grads[\"dW\" + str(L)], grads[\n",
    "        \"db\" + str(L)] = linear_activation_backward(\n",
    "            dAL, caches[L - 1], \"sigmoid\")\n",
    "\n",
    "    for l in range(L - 1, 0, -1):\n",
    "        current_cache = caches[l - 1]\n",
    "        grads[\"dA\" + str(l - 1)], grads[\"dW\" + str(l)], grads[\n",
    "            \"db\" + str(l)] = linear_activation_backward(\n",
    "                grads[\"dA\" + str(l)], current_cache,\n",
    "                hidden_layers_activation_fn)\n",
    "\n",
    "    return grads\n",
    "\n",
    "\n",
    "# define the function to update both weight matrices and bias vectors\n",
    "def update_parameters(parameters, grads, learning_rate):\n",
    "    \"\"\"\n",
    "    Update the parameters' values using gradient descent rule.\n",
    "\n",
    "    Arguments\n",
    "    ---------\n",
    "    parameters : dict\n",
    "        contains all the weight matrices and bias vectors for all layers.\n",
    "    grads : dict\n",
    "        stores all gradients (output of L_model_backward).\n",
    "\n",
    "    Returns\n",
    "    -------\n",
    "    parameters : dict\n",
    "        updated parameters.\n",
    "    \"\"\"\n",
    "    L = len(parameters) // 2\n",
    "\n",
    "    for l in range(1, L + 1):\n",
    "        parameters[\"W\" + str(l)] = parameters[\n",
    "            \"W\" + str(l)] - learning_rate * grads[\"dW\" + str(l)]\n",
    "        parameters[\"b\" + str(l)] = parameters[\n",
    "            \"b\" + str(l)] - learning_rate * grads[\"db\" + str(l)]\n",
    "\n",
    "    return parameters"
   ]
  },
  {
   "cell_type": "markdown",
   "metadata": {},
   "source": [
    "<a id=\"Application\"></a>"
   ]
  },
  {
   "cell_type": "markdown",
   "metadata": {},
   "source": [
    "<h2 style=\"font-family: Georgia; font-size:2em;color:purple; font-style:bold\">\n",
    "II. Application\n",
    "</h2>"
   ]
  },
  {
   "cell_type": "markdown",
   "metadata": {},
   "source": [
    "The dataset that we'll be working on has 209 images. Each image is 64 x 64 pixels on RGB scale. We'll build a neural network to classify if the image has a cat or not. Therefore, $y^i \\in \\{0, 1\\}.$\n",
    "- We'll first load the images.\n",
    "- Show sample image for a cat.\n",
    "- Reshape input matrix so that each column would be one example. Also, since each image is 64 x 64 x 3, we'll end up having 12,288 features for each image. Therefore, the input matrix would be 12,288 x 209.\n",
    "- Standardize the data so that the gradients don't go out of control. Also, it will help hidden units have similar range of values. For now, we'll divide every pixel by 255 which shouldn't be an issue. However, it's better to standardize the data to have a mean of 0 and a standard deviation of 1."
   ]
  },
  {
   "cell_type": "code",
   "execution_count": 15,
   "metadata": {
    "code_folding": [
     0
    ]
   },
   "outputs": [
    {
     "name": "stderr",
     "output_type": "stream",
     "text": [
      "<ipython-input-15-4eaf62985e11>:2: H5pyDeprecationWarning: The default file mode will change to 'r' (read-only) in h5py 3.0. To suppress this warning, pass the mode you need to h5py.File(), or set the global default h5.get_config().default_file_mode, or set the environment variable H5PY_DEFAULT_READONLY=1. Available modes are: 'r', 'r+', 'w', 'w-'/'x', 'a'. See the docs for details.\n",
      "  train_dataset = h5py.File(\"D:\\Cs. de Datos\\Práctica Profesionalizante\\Redes Neuronales/data/train_catvnoncat.h5\")\n",
      "<ipython-input-15-4eaf62985e11>:6: H5pyDeprecationWarning: The default file mode will change to 'r' (read-only) in h5py 3.0. To suppress this warning, pass the mode you need to h5py.File(), or set the global default h5.get_config().default_file_mode, or set the environment variable H5PY_DEFAULT_READONLY=1. Available modes are: 'r', 'r+', 'w', 'w-'/'x', 'a'. See the docs for details.\n",
      "  test_dataset = h5py.File(\"D:\\Cs. de Datos\\Práctica Profesionalizante\\Redes Neuronales/data/test_catvnoncat.h5\")\n"
     ]
    },
    {
     "name": "stdout",
     "output_type": "stream",
     "text": [
      "Original dimensions:\n",
      "--------------------\n",
      "Training: (209, 64, 64, 3), (209,)\n",
      "Test: (50, 64, 64, 3), (50,)\n",
      "\n",
      "New dimensions:\n",
      "---------------\n",
      "Training: (12288, 209), (1, 209)\n",
      "Test: (12288, 50), (1, 50)\n"
     ]
    },
    {
     "name": "stderr",
     "output_type": "stream",
     "text": [
      "C:\\ProgramData\\Anaconda3\\lib\\site-packages\\ipykernel_launcher.py:2: H5pyDeprecationWarning: The default file mode will change to 'r' (read-only) in h5py 3.0. To suppress this warning, pass the mode you need to h5py.File(), or set the global default h5.get_config().default_file_mode, or set the environment variable H5PY_DEFAULT_READONLY=1. Available modes are: 'r', 'r+', 'w', 'w-'/'x', 'a'. See the docs for details.\n",
      "  \n",
      "C:\\ProgramData\\Anaconda3\\lib\\site-packages\\ipykernel_launcher.py:6: H5pyDeprecationWarning: The default file mode will change to 'r' (read-only) in h5py 3.0. To suppress this warning, pass the mode you need to h5py.File(), or set the global default h5.get_config().default_file_mode, or set the environment variable H5PY_DEFAULT_READONLY=1. Available modes are: 'r', 'r+', 'w', 'w-'/'x', 'a'. See the docs for details.\n",
      "  \n"
     ]
    },
    {
     "data": {
      "text/plain": [
       "<Figure size 432x432 with 1 Axes>"
      ]
     },
     "metadata": {},
     "output_type": "display_data"
    }
   ],
   "source": [
    "# Import training dataset\n",
    "train_dataset = h5py.File(\"D:\\Cs. de Datos\\Práctica Profesionalizante\\Redes Neuronales/data/train_catvnoncat.h5\")\n",
    "X_train = np.array(train_dataset[\"train_set_x\"])\n",
    "y_train = np.array(train_dataset[\"train_set_y\"])\n",
    "\n",
    "test_dataset = h5py.File(\"D:\\Cs. de Datos\\Práctica Profesionalizante\\Redes Neuronales/data/test_catvnoncat.h5\")\n",
    "X_test = np.array(test_dataset[\"test_set_x\"])\n",
    "y_test = np.array(test_dataset[\"test_set_y\"])\n",
    "\n",
    "# print the shape of input data and label vector\n",
    "print(f\"\"\"Original dimensions:\\n{20 * '-'}\\nTraining: {X_train.shape}, {y_train.shape}\n",
    "Test: {X_test.shape}, {y_test.shape}\"\"\")\n",
    "\n",
    "# plot cat image\n",
    "plt.figure(figsize=(6, 6))\n",
    "plt.imshow(X_train[50])\n",
    "plt.axis(\"off\");\n",
    "\n",
    "# Transform input data and label vector\n",
    "X_train = X_train.reshape(209, -1).T\n",
    "y_train = y_train.reshape(-1, 209)\n",
    "\n",
    "X_test = X_test.reshape(50, -1).T\n",
    "y_test = y_test.reshape(-1, 50)\n",
    "\n",
    "# standarize the data\n",
    "X_train = X_train / 255\n",
    "X_test = X_test / 255\n",
    "\n",
    "print(f\"\"\"\\nNew dimensions:\\n{15 * '-'}\\nTraining: {X_train.shape}, {y_train.shape}\n",
    "Test: {X_test.shape}, {y_test.shape}\"\"\")"
   ]
  },
  {
   "cell_type": "code",
   "execution_count": 15,
   "metadata": {},
   "outputs": [
    {
     "data": {
      "text/plain": [
       "array([[0.06666667, 0.76862745, 0.32156863, ..., 0.56078431, 0.08627451,\n",
       "        0.03137255],\n",
       "       [0.12156863, 0.75294118, 0.27843137, ..., 0.60784314, 0.09411765,\n",
       "        0.10980392],\n",
       "       [0.21960784, 0.74509804, 0.26666667, ..., 0.64705882, 0.09019608,\n",
       "        0.20784314],\n",
       "       ...,\n",
       "       [0.        , 0.32156863, 0.59607843, ..., 0.59215686, 0.        ,\n",
       "        0.        ],\n",
       "       [0.        , 0.32156863, 0.54117647, ..., 0.33333333, 0.01568627,\n",
       "        0.        ],\n",
       "       [0.        , 0.31372549, 0.55294118, ..., 0.41960784, 0.01960784,\n",
       "        0.        ]])"
      ]
     },
     "execution_count": 15,
     "metadata": {},
     "output_type": "execute_result"
    }
   ],
   "source": [
    "X_train[:-1]"
   ]
  },
  {
   "cell_type": "markdown",
   "metadata": {},
   "source": [
    "Now, our dataset is ready to be used and test our neural network implementation. Let's first write **multi-layer model** function to implement gradient-based learning using predefined number of iterations and learning rate."
   ]
  },
  {
   "cell_type": "code",
   "execution_count": 16,
   "metadata": {
    "code_folding": [
     0
    ]
   },
   "outputs": [],
   "source": [
    "# Define the multi-layer model using all the helper functions we wrote before\n",
    "\n",
    "\n",
    "def L_layer_model(\n",
    "        X, y, layers_dims, learning_rate=0.01, num_iterations=3000,\n",
    "        print_cost=True, hidden_layers_activation_fn=\"relu\"):\n",
    "    \"\"\"\n",
    "    Implements multilayer neural network using gradient descent as the\n",
    "    learning algorithm.\n",
    "\n",
    "    Arguments\n",
    "    ---------\n",
    "    X : 2d-array\n",
    "        data, shape: number of examples x num_px * num_px * 3.\n",
    "    y : 2d-array\n",
    "        true \"label\" vector, shape: 1 x number of examples.\n",
    "    layers_dims : list\n",
    "        input size and size of each layer, length: number of layers + 1.\n",
    "    learning_rate : float\n",
    "        learning rate of the gradient descent update rule.\n",
    "    num_iterations : int\n",
    "        number of iterations of the optimization loop.\n",
    "    print_cost : bool\n",
    "        if True, it prints the cost every 100 steps.\n",
    "    hidden_layers_activation_fn : str\n",
    "        activation function to be used on hidden layers: \"tanh\", \"relu\".\n",
    "\n",
    "    Returns\n",
    "    -------\n",
    "    parameters : dict\n",
    "        parameters learnt by the model. They can then be used to predict test examples.\n",
    "    \"\"\"\n",
    "    np.random.seed(1)\n",
    "\n",
    "    # initialize parameters\n",
    "    parameters = initialize_parameters(layers_dims)\n",
    "\n",
    "    # intialize cost list\n",
    "    cost_list = []\n",
    "\n",
    "    # iterate over num_iterations\n",
    "    for i in range(num_iterations):\n",
    "        # iterate over L-layers to get the final output and the cache\n",
    "        AL, caches = L_model_forward(\n",
    "            X, parameters, hidden_layers_activation_fn)\n",
    "\n",
    "        # compute cost to plot it\n",
    "        cost = compute_cost(AL, y)\n",
    "\n",
    "        # iterate over L-layers backward to get gradients\n",
    "        grads = L_model_backward(AL, y, caches, hidden_layers_activation_fn)\n",
    "\n",
    "        # update parameters\n",
    "        parameters = update_parameters(parameters, grads, learning_rate)\n",
    "\n",
    "        # append each 100th cost to the cost list\n",
    "        if (i + 1) % 100 == 0 and print_cost:\n",
    "            print(f\"The cost after {i + 1} iterations is: {cost:.4f}\")\n",
    "\n",
    "        if i % 100 == 0:\n",
    "            cost_list.append(cost)\n",
    "\n",
    "    # plot the cost curve\n",
    "    plt.figure(figsize=(10, 6))\n",
    "    plt.plot(cost_list)\n",
    "    plt.xlabel(\"Iterations (per hundreds)\")\n",
    "    plt.ylabel(\"Loss\")\n",
    "    plt.title(f\"Loss curve for the learning rate = {learning_rate}\")\n",
    "\n",
    "    return parameters\n",
    "\n",
    "\n",
    "def accuracy(X, parameters, y, activation_fn=\"relu\"):\n",
    "    \"\"\"\n",
    "    Computes the average accuracy rate.\n",
    "\n",
    "    Arguments\n",
    "    ---------\n",
    "    X : 2d-array\n",
    "        data, shape: number of examples x num_px * num_px * 3.\n",
    "    parameters : dict\n",
    "        learnt parameters.\n",
    "    y : 2d-array\n",
    "        true \"label\" vector, shape: 1 x number of examples.\n",
    "    activation_fn : str\n",
    "        activation function to be used on hidden layers: \"tanh\", \"relu\".\n",
    "\n",
    "    Returns\n",
    "    -------\n",
    "    accuracy : float\n",
    "        accuracy rate after applying parameters on the input data\n",
    "    \"\"\"\n",
    "    probs, caches = L_model_forward(X, parameters, activation_fn)\n",
    "    labels = (probs >= 0.5) * 1\n",
    "    accuracy = np.mean(labels == y) * 100\n",
    "\n",
    "    return f\"The accuracy rate is: {accuracy:.2f}%.\""
   ]
  },
  {
   "cell_type": "markdown",
   "metadata": {},
   "source": [
    "Next, we'll train two versions of the neural network where each one will use different activation function on hidden layers: One will use rectified linear unit (**ReLU**) and the second one will use hyperbolic tangent function (**tanh**). Finally we'll use the parameters we get from both neural networks to classify test examples and compute the test accuracy rates for each version to see which activation function works best on this problem."
   ]
  },
  {
   "cell_type": "markdown",
   "metadata": {},
   "source": [
    "## TANH"
   ]
  },
  {
   "cell_type": "code",
   "outputs": [
    {
     "name": "stdout",
     "output_type": "stream",
     "text": [
      "The cost after 100 iterations is: 0.6556\n",
      "The cost after 200 iterations is: 0.6468\n",
      "The cost after 300 iterations is: 0.6447\n",
      "The cost after 400 iterations is: 0.6441\n",
      "The cost after 500 iterations is: 0.6440\n",
      "The cost after 600 iterations is: 0.6440\n",
      "The cost after 700 iterations is: 0.6440\n",
      "The cost after 800 iterations is: 0.6439\n",
      "The cost after 900 iterations is: 0.6439\n",
      "The cost after 1000 iterations is: 0.6439\n",
      "The cost after 1100 iterations is: 0.6439\n",
      "The cost after 1200 iterations is: 0.6439\n",
      "The cost after 1300 iterations is: 0.6438\n",
      "The cost after 1400 iterations is: 0.6438\n",
      "The cost after 1500 iterations is: 0.6437\n",
      "The cost after 1600 iterations is: 0.6434\n",
      "The cost after 1700 iterations is: 0.6429\n",
      "The cost after 1800 iterations is: 0.6413\n",
      "The cost after 1900 iterations is: 0.6361\n",
      "The cost after 2000 iterations is: 0.6124\n",
      "The cost after 2100 iterations is: 0.5112\n",
      "The cost after 2200 iterations is: 0.5744\n",
      "The cost after 2300 iterations is: 0.3670\n",
      "The cost after 2400 iterations is: 0.3729\n",
      "The cost after 2500 iterations is: 0.3772\n",
      "The cost after 2600 iterations is: 0.2456\n",
      "The cost after 2700 iterations is: 0.1729\n",
      "The cost after 2800 iterations is: 0.4893\n",
      "The cost after 2900 iterations is: 0.1230\n",
      "The cost after 3000 iterations is: 0.4576\n"
     ]
    },
    {
     "data": {
      "text/plain": [
       "'The accuracy rate is: 46.00%.'"
      ]
     },
     "execution_count": 17,
     "metadata": {},
     "output_type": "execute_result"
    },
    {
     "data": {
      "text/plain": [
       "<Figure size 720x432 with 1 Axes>"
      ]
     },
     "metadata": {},
     "output_type": "display_data"
    }
   ],
   "source": [
    "# Setting layers dims\n",
    "layers_dims = [X_train.shape[0], 5, 5, 1]\n",
    "\n",
    "# NN with tanh activation fn\n",
    "parameters_tanh = L_layer_model(\n",
    "    X_train, y_train, layers_dims, learning_rate=0.03, num_iterations=3000,\n",
    "    hidden_layers_activation_fn=\"tanh\")\n",
    "\n",
    "# Print the accuracy\n",
    "accuracy(X_test, parameters_tanh, y_test, activation_fn=\"tanh\")"
   ]
  },
  {
   "cell_type": "markdown",
   "metadata": {},
   "source": [
    "## RELU\n"
   ]
  },
  {
   "cell_type": "code",
   "execution_count": 13,
   "metadata": {},
   "outputs": [
    {
     "name": "stdout",
     "output_type": "stream",
     "text": [
      "The cost after 100 iterations is: 0.6556\n",
      "The cost after 200 iterations is: 0.6468\n",
      "The cost after 300 iterations is: 0.6447\n",
      "The cost after 400 iterations is: 0.6441\n",
      "The cost after 500 iterations is: 0.6440\n",
      "The cost after 600 iterations is: 0.6440\n",
      "The cost after 700 iterations is: 0.6440\n",
      "The cost after 800 iterations is: 0.6440\n",
      "The cost after 900 iterations is: 0.6440\n",
      "The cost after 1000 iterations is: 0.6440\n",
      "The cost after 1100 iterations is: 0.6439\n",
      "The cost after 1200 iterations is: 0.6439\n",
      "The cost after 1300 iterations is: 0.6439\n",
      "The cost after 1400 iterations is: 0.6439\n",
      "The cost after 1500 iterations is: 0.6439\n",
      "The cost after 1600 iterations is: 0.6439\n",
      "The cost after 1700 iterations is: 0.6438\n",
      "The cost after 1800 iterations is: 0.6437\n",
      "The cost after 1900 iterations is: 0.6435\n",
      "The cost after 2000 iterations is: 0.6432\n",
      "The cost after 2100 iterations is: 0.6423\n",
      "The cost after 2200 iterations is: 0.6395\n",
      "The cost after 2300 iterations is: 0.6259\n",
      "The cost after 2400 iterations is: 0.5408\n",
      "The cost after 2500 iterations is: 0.5262\n",
      "The cost after 2600 iterations is: 0.4727\n",
      "The cost after 2700 iterations is: 0.4386\n",
      "The cost after 2800 iterations is: 0.3493\n",
      "The cost after 2900 iterations is: 0.1877\n",
      "The cost after 3000 iterations is: 0.3641\n"
     ]
    },
    {
     "data": {
      "text/plain": [
       "'The accuracy rate is: 42.00%.'"
      ]
     },
     "execution_count": 13,
     "metadata": {},
     "output_type": "execute_result"
    },
    {
     "data": {
      "image/png": "iVBORw0KGgoAAAANSUhEUgAAAqgAAAGHCAYAAAB8qqAiAAAABHNCSVQICAgIfAhkiAAAAAlwSFlzAAALEgAACxIB0t1+/AAAADl0RVh0U29mdHdhcmUAbWF0cGxvdGxpYiB2ZXJzaW9uIDIuMS4wLCBodHRwOi8vbWF0cGxvdGxpYi5vcmcvpW3flQAAIABJREFUeJzt3XmcHGW59vHr7p41k2QyWSAkYWdYwo7IJps7CAfUgwgCHs4rCgpuqAgHBQRRQQ9urHKAoyIgAgJHkcWNRbYgxECAMCEEEpKQbWaSzD7d9/tH1cx0d2ZNZrqqu3/fz2dI19PVVXd3pcM1z1NPlbm7AAAAgLhIRF0AAAAAkImACgAAgFghoAIAACBWCKgAAACIFQIqAAAAYoWACgAAgFghoAIoSGZ2pJm9ZGZdZvb3PO3zdDPrHqNt/6+Z/Xkstr2pzGyxmX0r6joAlB4CKpBncQwiBeo6Sc9L2kHSx0d742bWbWanj/Z2C8y7Jf046iIGY2anmlmsLuhtZgea2ZNm1m5my83s+2aWHMbrTjezBWbWYWavmtkpOc9/2MyeMrPV4bZfN7PvmlnF2L0bIBplURcAoDiZWYW7d47hLuolfc/dl2zqBswsIcncPTV6ZcXbSI6Lu68a63oGkoe/P2PCzLaW9IikuyV9VsHf05slmaTzB3ndRyXdJOnrkv4k6RhJvzKzte7+p3C1dZJ+KuklSesl7SvpF5JqJH11LN4PEBV6UIGYMbMJZnaDma0Ke0meM7MP5azzX2a2KOxpWWVmD5lZdfjcLDO7O+xlaQvX+8YQ+9zRzH5nZmvNrNXM5pnZseFzGw1rh/twMzsyXD4yXD7GzJ4ws3ZJZ4Xb+lTOa7cys5SZHRUul5nZJWb2Rvh+55vZmYPUemTYY5ZU8D9w7+npNLODzOyx8H03mtltZrZFxmsvMbOFZvZJM3tVUqek3frZx+Jw+7eE2/ec599jZs+H72+Omb0r5/mdwmPQFNbxsJntOdgxGOC9nmRmc8PPZbGZXWVmNRnPf9DM/h4et2Yze9TMDsjZhpvZl8LPolnSb8xsu7D9RDP7v/B9LDKz03I/B8sY4g+XLzWzn4b7fMfMfpTZO2hm1Wb2i7CeRjO71oIexIVDvNeN6gzbLzezV8Ial5jZ9WZWGz53pKRfZ7zezex/M7b5RQt6ItvNrMHMLjSzse6Y+byCIPkZd5/v7vdK+rakL2Yeu36cJ+m37v5jd3/V3f9b0j2Svtmzgrs/5e53uPtL7v5muO3fSDpyzN4NEBECKhA/N0v6sKRTFfSQ/EPSH8xsV0kys48r6In5soLemQ8q6HHpca2kWkkfUBC+PiNp6UA7M7Ppkp6UVCfpOEl7KvgfanoTav9vSVeG+71H0n2S/iNnnVMkvaOgl0mS/kfBEP2Z4esulXSFmX1mgH08KWmr8PE54ePfhu/jYQXv9QBJ/yZpDwU9WZlmSPqCpNMlzZb0Zj/7eLeklKSvhNvfKuO5hKTvK/j895PUKOnOnuBjZltKekLSSkmHSTpI0gJJfzezaQO8p42Eofs6BZ/pbEmfVnBMr89Ybbyka8J9HCKpQdKDZjYlZ3MXS3oqrPfCjPYfKAh4e0m6U0Egrx+itC9KWi7pQElfUvAZfTrj+SskHS/ptLCuZgWf93D0V2ebpM8p+AxOVxDGfhY+96SCvwNS33H6shT8MqKgN/ICBX+vvqzg79jFgxVgZhuG+hniPbxH0sPunvn9eVDSOAXf5/72WaHg79yDOU89KOkgG+D0gPDfhKMl/W2ImoDC4+788MNPHn8k/a+kPw/w3E6SXNJHctqfl3Rz+Pirkl6TVD7ANv4l6ZIR1HOZpBWSagZ4/nRJ3Tlts8I6jwyXjwyXT8tZ7yhJ3ZJm5NT3w/Dx9gqC8K45r7tI0twh6nZJp+a8j6WSKjLa9g7XOzxcviTc3zbD+Fy6JZ3ez2fhkvbLaDsobNslYx9P57zOJL0u6SvD/XshabGks3LWOTzcV90A20goCMyn5HxON+Wst13Yfm5GW5mkDZLOzKnhWznL9+ds60FJt4ePayR1KOg9zFznaUkLh3E8bxpsnXC9j4X7SITLp0rynHXGSWqVdFRO+6clNQ2x/Z2G+hni9a8pOPUks60mfH+fGOA1M8LnP5TTfkzYPi2nfWn4GbikGyQlh/rc+OGn0H44BxWIl9nhn4/ltD8m6eDw8Z0Keq7eNLOHJf1F0r3uvj58/ieSbjCzoyX9XdIf3T13e5neJelJd28ZhfqfzVl+REFP4imSfmhmeyvorTs1fH5/BeHtOTPLfF2Zgh7MkdhdQTDsPW/R3f8VDhfvrr7P9B13f2uE287kCkJ2j7fDP7dU0FP6bknv6qenrVpBj/eQwp7WbSVdZWY/ynwq/HMnSXPMbHsFPc4HS9pCQUAdF742U+5x6TG354G7d5vZO+H7GMzcnOW3Ffyi0VNXhYJAmukpBT3aQ9moznDE4CvhticqeI8VkqZLWjbAdnZX8HnfnXN6RlJSlZlN8wHOr3X3QU9F2ESe8+emvr7HYerrkb1CwS+Yg/YMA4WGgAoUBlP4Pyl3fzsc2nuvpPcpGI6/wswOdPcl7n6LmT2ooPfyvZL+ZGa/d/dTB9q4Bv8fZ39D/eUDrJsVct09ZWa/UdBz9cPwzxfc/cVwlZ7TjA5R0OM13JoGMtBrMts3N4inPXtSVc+2Exl//kV9Q8+Zmoe5j55tfVn9D9/2nLLxB0mrJZ0taYmCc2qfUBDgMg30nnMnIbmGPvVrOK/Z1CCWVaeZHSjpdwpOqfiGgt7hgyT9Uhu/x0w99XxCQY9mrrUDvXAYQ/hy9/GDPL1cQXjO1LO8YoDXrFbQY5/7ui0V9JQ25uz/jfDhfDNLSbrVzK4cpV8ygVggoALxMj/883BJD2S0HybphZ4Fd+9QMLT6oJl9W8E5nR+V9PPw+eWSblFwTuEDkm43sy+4+7p+9vlPSZ81s5oB/ge3UlLSzLZ093fCtv1G8J5+KenrZra/pJMV9Phk7lsKhtz/MIJt9me+pP+0jNnfYY9trfo+15HoVNDjNlLPKTgV4G13b9uE18vd3zGzJQpOG7ixv3XC80xnKzgd5KGwbZaCntSoLFTwuR0s6eWM9oM2cXuHSlrt7pkTtU7IWafnWCczfnGYL6ld0g7u/oBGZp9NrLXHPySdZmYJ7zsP9SgFv4C90N8L3L3TzOYoOPf8VxlPHaVgVGCw0YRE+DPQL41AQSKgAtEYb2a5/yNsd/dXzex3kq61YCb7mwpmBe8h6VOSFE4eSigYDm2S9H5JExQGAjO7WkG4XSCpSsEEpCUKLkvTn2sVTB65z8wuVjBsuruklAeXt3k2fO0PzOx7knZUcI7osLj7S2b2gqQbJU2TdHvGcwvN7GZJN5rZeQqGgmsUnHYwzd2v6G+bA7haQY/j/4Z1Tgrf2xPu/vgIttPjDUnvNbM/Sep099UjqOMzku41s+8q+OxnKZjM8kd3f3KY27lQ0k1m1iTpXkldCib7HO3uZyroVVul4JeL1yVNUTBBbZNC8Whw9xYzu0HSd8PTBV5TMElut7DWkVogaVr4d/5vCgJr7oSrnt7E48zsCUlt7r4h/DvwvfDUkUcU/P9uT0n7uvs3NYBRGOK/TkHv+Y1mdpWC78tlkn7e8wugmc1U0Mt+gbv/PnzdlZLuMrNnFfzyeYyC727vqRFm9jVJryr4XF3BKTJXKjgvuGkz6wZihVn8QDQOVNCbkvlzb/jcGZIeknSrgnMd3yPpWHd/NXy+UdJ/Kji/9BVJ50r6nLv/JXzeFJyH+pKC8y5rFISafoddw97WQxWE0AcU9D5dHm5H7r5WQc/nQZLmKTil4LwRvt9fKuiZetDdV+Y89zkFF4O/UEHI/ouCULNoJDsIe3c/pCAMzlEw/P2SpH8fYa09vqYgKL+hEYSrsI6DFQzb3qMgZP1GwXmhy0ewnV9LOlFBUHlWwXu6ROE5r2Hv3CcUBKB5CiZZ/WQk+xgj35T0f5JuU1B3nYLa2ke6obBX/XJJ35P0oqSTFAz1Z64zR8G1Qa9XMJJwddh+mYIJhWco+B49ES4vHvE7GlnNSxT8PdxNwQjBL8KfzKsnlEvaRUHvfs/r7g1rPVvBez1TwSS9P+W87ocKzgN+QdK3FFzF4eQxejtAZGyA/2cBADAqzOyvkhrdfVN/WQBQYhjiBwCMGgtuSLCfgtM1KhRcD/W9kj4SZV0ACgsBFQAwmlzBedM/U3Aa2auSPpYzVA0Ag2KIHwAAALHCJCkAAADESsEO8Tc3N9P1CwAAUOBqa2stt40eVAAAAMQKARUAAACxQkAdoYaGhqhLgDgOccFxiAeOQzxwHOKB4xAfm3MsCKgAAACIFQIqAAAAYoWACgAAgFghoAIAACBW8hZQzewoM1tgZgvN7Px+nv+xmc0Nf14zs6Z81QYAAID4yMuF+s0sKekaSR+UtFTSHDO7391f7lnH3b+asf4XJe2bj9oAAAAQL/nqQT1A0kJ3X+TunZLukHT8IOufLOn2vFQGAACAWDH3sb9jqJmdIOkodz8jXD5N0oHufk4/624r6WlJs9w9NdA2M291yjXPAAAACkd9fX3v4/5udZqXIX5JG+1Y0kDJ+CRJdw0WTnNlvsmx1tDQkNf9oX8ch3jgOMQDxyEeOA7xwHGIj805Fvka4l8qaeuM5VmSlg2w7klieB8AAKBk5SugzpFUb2bbm1mFghB6f+5KZraLpDpJT+WprhG7b0VSty9sjboMAACAopWXIX537zazcyQ9JCkp6WZ3n29ml0p6zt17wurJku7wfJwYO0LurivmrtcPFlaq7PVGbVGd0PtnVkVdFgAAQNHJ1zmocvcHJD2Q03ZRzvIl+apnpM57plk3vtIiSep26dN/Xas/Hj1V+0ytiLgyAACA4sKdpIbp0OmVWTO9WrpdJ/55jRav746sJgAAgGJEQB2m47er1vcPrM1qW9mW1gkPr9Ga9mFfcAAAAABDIKCOwFmzx+vUmV1ZbQvXdevkP69Va3c6oqoAAACKCwF1hL64XZdO2KE6q+3ZVZ0649FGpdKxm9sFAABQcAioI5Qw6ZpD63TY9OzJUQ+81a7znmlWDC9AAAAAUFAIqJugMmm69f1TNLsu+yIIN73aoqvmbYioKgAAgOJAQN1EtRUJ3fXBqZpVk8xqv+z5dbqtoSWiqgAAAAofAXUzzKhJ6ncfnKLaCstq/9I/mvSXt9sjqgoAAKCwEVA302515brt/VNUkfFJ9lzIf+7qzugKAwAAKFAE1FHwnumV+sXhk7mQPwAAwCggoI6Sj25fre8dwIX8AQAANhcBdRR9fvfx+uIe47PauJA/AADAyBBQR9l39p+of99+4wv5f+bvjermQv4AAABDIqCOsoSZrj1s4wv5/2lJu857mgv5AwAADIWAOgYGupD/zQu4kD8AAMBQCKhjhAv5AwAAbBoC6hjiQv4AAAAjR0AdY1zIHwAAYGQIqHkw2IX8n1/VycQpAACADGVDr4LR8NHtq7W8tVYXPNvc27ayLa33/WGVplYldPhWlb0/209IyswG2RoAAEDxIqDm0ed3H69lrSn9/KXsmfyr29O654023fNGmyRpVk1Sh4Vh9bDpFZo1nsMEAABKB8knz76z/0StaE3pd4vaBlxnaUtKty9s1e0LWyVJO05M9vauHjq9UtOqkwO+FgAAoNARUPMsYaYbDq/TB2ZV6Z432vTkig6t7xr8HNTX16X0+rpW3bIgCKyz68p6A+shW1ZqUiWnEgMAgOJBQI1Awkyf3HGcPrnjOHWnXXPXdOmx5R16bHmHnn6nQ+2pwV//cmO3Xm7s1vUvtyhh0j5TynXY9ErtMblckyoTqq0w1VYken+qkuKcVgAAUDAIqBErS5j2n1ah/adV6Ny9Jqgj5ZqzqlOPLe/Q48s7NGdlp7oH6WBNu/T86i49v7prwHUqEtLEio2Da+byxKznTBPKE6pISmVmSiaCP8sSUplJyYSpzILay0xKGAEYAACMHgJqzFQmTYdOD8411b7Shq60nlnZqceWdeixFR2au7pLI70oVWc6mIi1ul2Shuie3URBcB040CYkmUmm8MeCnuTM5Z7H6nnc3/Phnx3tlap6dWXv/nPzcW5ctpyWodbfXHHO66NZWltbpaobVo3a9kb7cxvu5oaz3nB/CRv2PgdZcaCnBmpvba1UzRurB1x3o+/DUH//M1awftbpebq/ffT7nPV9BzO/x8p9HP4nc7nnc8/9d8JMGf+uWPCLcrhi5r83vf/ObNQevM5MSvb8hP9WJU1KJCz4U8G/bUkL9pGw4HHPaxLhv2VJk1auTWjJ2+2qSJoqElJFwlSZNFUkTBVJZT9OmJKJGP9DAUSMgBpz48sTev/MKr1/ZpUkqakjrX+s6OjtYX25qTviCgPdLnWnpI7e+DzW13ZNShsG7jVGviSlddxwInpJqakj6iKgKunlNcNeO2FBUC0PA2tl0lSe6AuyEypM06qSmlqV0NSqhKZVJzQ1XJ5WldC06qRqK0yJOP9GDGwiAmqBmVSZ0DHbVuuYbaslSSvbUnpieYeeWtmp1W1pNXf2/Hjv4850xEUDADaSdqkt5WpLSZv6S32ZSVOrEpoSBtZpvWE2I9hWJTWtOqFtxicJsygYBNQCt0V1Uh/fYZw+vsO4Addp7/Z+g2tzp2tdv+1pre9ydaelbg/+THnfciod9pimXd0e/CMLAMi/bpdWtKW1oi0tNQ4+ojarJqnTd6nRp3cepy24XCFijoBaAqrKTFVlSW05bmz+QUq7K+UKg2tuoA2CbNqD/gF3yeVyKact409J7t7bJm38/JIlS7T11lsHz+UEZM/pidj4+cGXN8do37V2tLP/aG9v6dKlmjVr1qhsK6rPbnj7Hd7WRmOfAz012LaXvv22Zs6Y2e+6Q//9H/j74oO1DfJc7vZ69pH5Hc5c7nlt1rL7IM/1taXlvcvprPbsf0ey23vWD/5tSnn2457lVPgLeKqf5/peFzyfcmnd+haVV49TR8rVmXZ1pqTOtKsj5epKSx0pV0fa1ZlydaTG/kSoXEtbUvru8+t0xdx1+rdtq/WZXWt0yJYVTHJFLBFQsdkS4eSB8oQ0+tON+lfblFb9tIq87AsDa1ifVv30yqjLKHkNrWnVz6qKuoyS19CwVvX12wx7/e5+wmtXSr0htqkzrVVt6XCSa0qr2oPlNe1prWpPaXV7esjraPenK63euxfuNqlM/2/XGn1yx3GaWME1tREfBFQAACJQljCVbeZM/vZu1+owrAYBNhUG2OBndVtKqzvSerWxW22pjcPsK03d+sbTzbrkuXU6ccdq/b9dx2vPyeWbVRMwGgioAAAUqKoy06zxZZo1fvD1mjrSun1hq25e0KKG5o3PVW3pdt2yILhj4YFbVOj/7Vqj47etVlUZw/+IBv35AAAUuUmVCX1+9/F69mNb6L4PT9Vx21YpOUD2fGZlp858rFG737lCF89p1uL18bicIUoLPagAAJQIM9MRMyp1xIxKLWtJ6VevteiXr7VoeevG1yNc05HWT1/aoJ+9tEEfmFmpz+xWow/OrOIGA8gLelABAChBM2qSOn/fiZr3ien61Xsn68gZ/U94dEmPvN2hk/68Vvvc/Y6umrdeq9rG5q6EQA8CKgAAJaw8YTpuu2rd++Gpeu7jW+gLu9eotqL/XtIlG1K69J/rNPvOFfr5S+vzXClKCQEVAABIknaqLdf3DpikVz45XVcfOkn7Tu1/Rn9XWrpozjotbOaW0xgbBFQAAJBlXFlCp9bX6G//toX+euw0nVI/TlU593pxSbc2tEZSH4ofARUAAAxov2kVuubQOr3yya30hd1rsp67fWGrurnfNcYAARUAAAyprjKhC/edqAnlfeenvtOW1iNL2yOsCsWKgAoAAIalpjyhj29fndX2a4b5MQYIqAAAYNhO2zl7mP+hJe16p5XLTmF0EVABAMCwvWtquXad1Hefn5RLv32dXlSMLgIqAAAYNjPTqfXjstp+3dAqdyZLYfQQUAEAwIictNM4lWVcy7+huVvPruyMriAUHQIqAAAYkalVSR29TVVWG5OlMJoIqAAAYMROq8+eLPX7N9q0visdUTUoNgRUAAAwYu+fWakZ4/piREu369432iKsCMWEgAoAAEYsmTCdvFP2ZClufYrRkreAamZHmdkCM1toZucPsM6JZvaymc03s9vyVRsAABi5U3OG+Z9Z2akFTV0RVYNikpeAamZJSddIOlrSbEknm9nsnHXqJV0g6T3uvrukr+SjNgAAsGm2n1imQ6dXZLX9hl5UjIJ89aAeIGmhuy9y905Jd0g6Pmedz0q6xt0bJcndV+apNgAAsIlye1FvX9iqrjTXRMXmsXxcWNfMTpB0lLufES6fJulAdz8nY517Jb0m6T2SkpIucfcHB9pmc3Nzb+ENDQ1jVToAABhEe0o66tlqtaT6Loz6w906dOQUbn+KgdXX1/c+rq2ttdzny3IbxshGO5aUm4zLJNVLOlLSLEmPm9ke7t401MYz3+RYa2hoyOv+0D+OQzxwHOKB4xAPpXwcTlzbqFsW9A3t/3lDrT570JRIainl4xA3m3Ms8jXEv1TS1hnLsyQt62ed+9y9y93fkLRAQWAFAAAxlntN1EeWtmt5Kz2o2HT5CqhzJNWb2fZmViHpJEn356xzr6T3SpKZTZW0s6RFeaoPAABson2nlmt2Xd+gbNqlOxYyWQqbLi8B1d27JZ0j6SFJr0i6093nm9mlZnZcuNpDktaY2cuS/ibpG+6+Jh/1AQCATWdmG02WurWhRfmY54LilK9zUOXuD0h6IKftoozHLunc8AcAABSQT+5YrYufa1bP3U5fX5fSU+906pDpldEWhoLEnaQAAMBmm1KV1DHbVGe1/ZpromITEVABAMCoOLU++9an9y1u07rOdETVoJARUAEAwKh474xKzapJ9i63drt+/0ZbhBWhUBFQAQDAqEgmTCfvlN2L+uuGloiqQSEjoAIAgFFzSs4w/3OruvRKY1dE1aBQEVABAMCo2W5CmQ7fKnvm/q1MlsIIEVABAMCoOi2nF/WOha3qTHFNVAwfARUAAIyqY7et1sQK611e05HWn5a0R1gRCg0BFQAAjKrqMtOJO2T3ov6GyVIYAQIqAAAYdbnXRP3z2x1a1pKKqBoUGgIqAAAYdXtPKdcek8t7l9Mu3baQyVIYHgIqAAAYdWa20WSpWxtalHYmS2FoBFQAADAmTtxxnCoyksbi9Sn9Y0VndAWhYBBQAQDAmKirTOjYbauz2rizFIaDgAoAAMZM7jD//Yvb1NyZjqgaFAoCKgAAGDNHzKjUrJpk73J7Srp7UVuEFaEQEFABAMCYSZjplJxeVIb5MRQCKgAAGFOn1I+TZSy/sLpLL63tiqwexB8BFQAAjKltxpfpyBmVWW230ouKQRBQAQDAmMu9s9RvX29VR4proqJ/BFQAADDmjtmmWpMq+gb6Gztcf3qrPcKKEGcEVAAAMOaqykwn7shkKQwPARUAAORF7jD/X9/u0JIN3RFVgzgjoAIAgLzYa0qF9p5S3rvskm5f2BpdQYgtAioAAMib3DtL3drQqrQzWQrZCKgAACBvTthhnCr7biyltzak9PjyjugKQiwRUAEAQN5MqkzouG2rs9pubWCYH9kIqAAAIK9Ora/JWr7/zTY1daQjqgZxREAFAAB5ddhWFdp2fN84f0dKuo3JUshAQAUAAHmVMNMpOZOlLn6uWfcsIqQiQEAFAAB596mdxqkiI4V0paXPPNqom17dEF1RiA0CKgAAyLtZ48v0o4MnZbW5pK891awfzl0n59JTJY2ACgAAIvHpnWt04+F1KrPs9stfWK8Lnm3m+qgljIAKAAAi84kdx+m2909RdTI7pV7/covOerxRXWlCaikioAIAgEh9aOsq/f7DU1RbkR1S73y9Taf+da3augmppYaACgAAInfQlpX649HTtGV1djR5aEm7Pv7waq6TWmIIqAAAIBb2mFyuBz8yTdtNSGa1P/VOp459cLXeaU1FVBnyjYAKAABiY/uJZXrwI9M0u64sq/2ltV066oFVWry+O6LKkE8EVAAAECvTxyX1wNHTdNAWFVntb6xP6ag/rtLLjV0RVYZ8IaACAIDYmVSZ0D0fnqIPzqzMal/RltbRD6zSsys7IqoM+UBABQAAsTSuLKHbPjBFn9ihOqu9udP10YfW6C9vt0dUGcYaARUAAMRWecJ0w+F1+uxuNVntrd2uk/68Rncvao2oMowlAioAAIi1hJmuPLBW5+8zIau9Ky2d8Wijbnp1Q0SVYawQUAEAQOyZmc7fd6KuPLA2q90lfe2pZl05d52cW6MWjbKhVwEAAIiHz80er7rKhD7/eKMybzD1vRfWa21HWv9ZF11tGD30oAIAgILyiR3H6bb3T1F1MvvWqNe/3KJLXqtQV5qe1EJHQAUAAAXnQ1tX6fcfnqLaiuyQ+qdVZTr1r2vVmSKkFjICKgAAKEgHbVmpPx49TVtWZ8eZh5a06/svrIuoKowGAioAAChYe0wu14MfmabtJiSz2n/y4gY9sYKL+ReqvAVUMzvKzBaY2UIzO7+f5083s1VmNjf8OSNftQEAgMK1/cQyPfiRadpqXF+scUlnPdaopo50dIVhk+UloJpZUtI1ko6WNFvSyWY2u59Vf+vu+4Q//5OP2gAAQOGbPi6p6w/LnsK/tCWlc59q4vJTBShfPagHSFro7ovcvVPSHZKOz9O+AQBACThiRpVOmdmV1XbPG2367ettEVWETWX5+K3CzE6QdJS7nxEunybpQHc/J2Od0yV9X9IqSa9J+qq7Lxlom83Nzb2FNzQ0jFHlAACgkHSmpdP/VaWGlr4+uJqk6zf7tmtmFT2pcVFfX9/7uLa21nKfz9eF+jfasYLTQzL9n6Tb3b3DzM6S9EtJ7xvOxjPf5FhraGjI6/7QP45DPHAc4oHjEA8ch3hoaGjQrz80XUfev1LtqaCtJWX6/lu1+uPRU1WW6C+SYCxsznciX0P8SyVtnbE8S9KyzBXcfY2790y3u1HSu/JUGwAAKCK7TirXZe/OviXqMys7ddW89RFVhJHKV0CdI6klFRdsAAAfUElEQVTezLY3swpJJ0m6P3MFM9sqY/E4Sa/kqTYAAFBkzti1Rh+aVZnVdsXc9ZqzsjOiijASeQmo7t4t6RxJDykInne6+3wzu9TMjgtX+5KZzTezf0n6kqTT81EbAAAoPmamqw+t09SqvqiTculzj63V+i4uPRV3ebsOqrs/4O47u/uO7n552HaRu98fPr7A3Xd3973d/b3u/mq+agMAAMVni+qkrj50UlbbG+tTuuCZ5ogqwnBxJykAAFC0jtq6Wp/ZtSar7daGVt23mEtPxRkBFQAAFLXL3j1RO9dmX7joy/9o1NstqYgqwlAIqAAAoKiNK0voxiPqVJ6Repo6XV94vFFp7jIVSwRUAABQ9PaeUqFv7zcxq+3R5R26Zv6GiCrCYAioAACgJJyzx3gdNr0iq+3Sf67TvDVceipuCKgAAKAkJMx03WF1mlTRdzeprrT02Ucb1drNpafihIAKAABKxqzxZfrJIXVZbQuau3XxnHURVYT+EFABAEBJ+ej21frUTuOy2m58tUUPL2mPqCLkIqACAICSc8VBtdpuQjKr7ewnGrWqjUtPxQEBFQAAlJwJ5Qn94vA6JftOR9Wq9rTOeaJRzqWnIkdABQAAJemALSr1jb0nZLU9tLRDN73aElFF6EFABQAAJevre0/QAdOyLz31rTnNWtDUFVFFkAioAACghJUlTL84ok7jy/rG+ttT0hmPNqojxVB/VAioAACgpG03oUxXHlSb1fbi2i5d/jyXnooKARUAAJS8k3cap49tV53V9vOXNujRZR0RVVTaCKgAAKDkmZl+fMgkzRzXd+kpl/T5x9eqsYO7TOUbARUAAEDSpMqErju8ThlXntKy1rS+8iSXnso3AioAAEDo8K0q9aU9xme13be4XXe83hZRRaWJgAoAAJDhwv0maq/J5Vlt5z3dpDfXd0dUUekhoAIAAGSoSJpuPKJOVRl3Ql3f5fr8441KpRnqzwcCKgAAQI5dJpXrO/tnX3rqyXc6dfX8DRFVVFqGHVDN7Fwz2yd8fJCZvWVmi8zs4LErDwAAIBqf3a1G75tRmdX23efXad6azogqKh0j6UH9qqQ3wsffl3SVpMsl/WS0iwIAAIhawkzXHFanusq+ef1daenMxxrV3s1Q/1gaSUCtdfdmM5sgaW9JP3f3myTtMjalAQAARGurcUn95JC6rLZXmrp16fPNEVVUGkYSUJeY2SGSTpL0mLunzGyipNTYlAYAABC947er1id3zL7L1LXzW/TosvaIKip+Iwmo35B0l6QLJV0Wth0r6dnRLgoAACBOrjxokrYen8xq+/zjjWriLlNjYtgB1d0fcPcZ7r6du/8zbP6dpOPGpjQAAIB4qK1I6PrDNr7L1NeeaoqspmI2kln8s81sy/DxeDP7jqQLJJUP/koAAIDC957pG99l6u432nTXotaIKipeIxniv03SpPDxjyQdLulgSTeMdlEAAABx9F/7TdQeOXeZOvepJi3dwF2mRtNIAup27r7AzEzSxyR9QtIJkj48JpUBAADETGXS9IvD61SZcTrqus7gLlNp59JTo2UkAbUjvMTUAZKWuPtqSR2SqsakMgAAgBiaXVeui96VfZepx1d06lruMjVqRjrE/1dJv5T0v2Hbfuq7eD8AAEBJ+PzsGh2xVfZdpi795zq93NgVUUXFZSSz+L+q4BJTn3f3q8PmtII7TAEAAJSMhJmuPaxOtRV98/o709JnH12rjhRD/ZtrJD2ocveHJb1uZgeb2Tbu/py7/3WMagMAAIitmTVJXXXwpKy2+Y3duvz5dRFVVDxGcpmprczsUUkNku6RtNDMHjWzGWNWHQAAQIz9+w7j9Ikdsu8y9fOXNuiJFR0RVVQcRtKDep2kf0ma7O5bSaqTNFfS9WNRGAAAQCH44UGTNHNc37R+l3TWY41q7uQuU5tqJAH1UElfc/cWSQr/PE/SIWNRGAAAQCGYVJnQtYfVZbUtbUnpvKe5y9SmGklAbZQ0O6dtF0l8+gAAoKQdMaNSZ++efZep377epnvfaIuoosI2koB6paQ/m9kPzOzzZvYDSY+E7QAAACXt2/tN1Oy6sqy2rzzZqGUtqYgqKlwjuczUjZI+KWmqpH8L/zxN0qyxKQ0AAKBwVJWZfnH4ZFVkpKumTtfZT3CXqZEa6WWm/uruZ7j7R9z9DEmPKrg2KgAAQMnbY3K5vr3fxKy2vy3r0I2vtERUUWEaUUAdgA29CgAAQGn4wu7j9Z7pFVltFz/XrFebuMvUcI1GQKXPGgAAIJRMmK47rE4Ty/v68NpT0ucebVQnd5kalrKhVjCz9w3ydMUgzwEAAJSkbcaX6YcHT9KZjzX2ts1b26UfzF2ni95VG2FlhWHIgCrppiGef2s0CgEAACgmJ+5QrQffatfvF/ddauonL27QB2dV6eAtKyOsLP6GDKjuvn0+CgEAACgmZqarDpmkp1d2aHlrcFeptEtnP96ox4/fQjXlo3GmZXHikwEAABgjdZUJXXto9l2mFq1P6dJ/rouoosJAQAUAABhD751Zpc/uWpPVdsMrLXpiRUdEFcUfARUAAGCMXbz/RG03IZnVdvbjjdrQlY6oonjLW0A1s6PMbIGZLTSz8wdZ7wQzczPbP1+1AQAAjKXx5QldkzPU/+aGlC55jqH+/uQloJpZUtI1ko6WNFvSyWY2u5/1Jkj6kqRn8lEXAABAvrxneqXO3C17qP9/Xm3Ro8vaI6oovvLVg3qApIXuvsjdOyXdIen4fta7TNKVkjhSAACg6Fz0ronaIWeo/5x/NGk9Q/1Z8hVQZ0pakrG8NGzrZWb7Stra3f+Qp5oAAADyqqY8oWsOq8u6T/ySDSldNKc5spriaDgX6h8N1k9b772+zCwh6ceSTt+UjTc0NGxaVZso3/tD/zgO8cBxiAeOQzxwHOIh7sdhqqSTZ5TrtmXlvW23LGjVfmVrdVBdcfWkDnQs6uvrB31dvgLqUklbZyzPkrQsY3mCpD0k/d3MJGm6pPvN7Dh3f26ojQ/1JkdTQ0NDXveH/nEc4oHjEA8ch3jgOMRDoRyH/97e9ex9K7VwXXdv2xWLa/SPfbZQbUVxXGRpc45Fvj6BOZLqzWx7M6uQdJKk+3uedPdmd5/q7tu5+3aSnpY0rHAKAABQaKrLTNcdVqdExhjz0paUvvUsQ/1SngKqu3dLOkfSQ5JekXSnu883s0vN7Lh81AAAABAn796iQufsPj6r7dcNrXpkKXPF89aH7O4PuPvO7r6ju18etl3k7vf3s+6R9J4CAIBi91/7TtTOtdlnXH7pH41q6iiuc1FHqjhOcgAAAChAVf0M9S9vTeuCEh/qJ6ACAABE6F3TKvSVPbOH+m9f2KoHl7RFVFH0CKgAAAAR++Y+E7XbpOyh/q/8o0mNJTrUT0AFAACIWGUyGOpPZgz1r2hL65vPNEVXVIQIqAAAADGwz9QKfXWvCVltd77epj+8WXpD/QRUAACAmDhv7wnavS57qP+rTzZpTXsqooqiQUAFAACIiYqk6drD6lSWMdS/qj2t854urVn9BFQAAIAY2XtKhb6+d/ZQ/91vtOm+xaUz1E9ABQAAiJmv7T1Be04uz257qkmrS2Son4AKAAAQM+WJYFZ/eUZSW92e1tefKo2hfgIqAABADO0xuVzn5Qz137u4Tb9/ozWiivKHgAoAABBTX9lrgvaZkjvU36yVbcU91E9ABQAAiKnyRDCrvyIjsa3tSOvcJ5vk7tEVNsYIqAAAADE2u65cF+w7MavtD2+1665FxTurn4AKAAAQc1/cY7zeNTV7qP8bTzdpRWtxDvUTUAEAAGKuLBzqr0z2tTV1ur5SpEP9BFQAAIACsMukcl2YM9T/4JJ2PbuyM6KKxg4BFQAAoECcvft4vXta9lD/EysIqAAAAIhIMmE6aadxWW3z1hJQAQAAEKG9JldkLc9b0xVRJWOHgAoAAFBAdp9cpoT1Lb+xPqXmznR0BY0BAioAAEABGVeWUP3Esqy2l9YWVy8qARUAAKDA7JVz+9NiG+YnoAIAABSYPSfnBFR6UAEAABCl3B7UFwmoAAAAiNJeOT2orzZ2qSNVPHeUIqACAAAUmMlVSc2q6bvvabdLrzQWTy8qARUAAKAAFfN5qARUAACAArTReahFNJOfgAoAAFCAcs9DpQcVAAAAkcrtQX1pbZdS6eKYKEVABQAAKECzapKaVNF3z9OWbtei9d0RVjR6CKgAAAAFyMy015SKrLZiOQ+VgAoAAFCgivU8VAIqAABAgco9D3UePagAAACI0kYBdW2X3At/ohQBFQAAoEDVTyxTdbJvotTq9rSWt6YjrGh0EFABAAAKVDJh2n1yWVbbvLWdEVUzegioAAAABWyvydkz+YvhPFQCKgAAQAHbM3cmPwEVAAAAUcqdKPViEVxqioAKAABQwGbXlStjnpTe3JBSU0dhT5QioAIAABSw6jLTzrXZE6UKvReVgAoAAFDg9uzneqiFjIAKAABQ4Da65emawr7UFAEVAACgwO01JftSUy8W+Ex+AioAAECBy+1BXdDcrbbuwr3lKQEVAACgwE2qTGjr8cne5ZRLrzYVbi8qARUAAKAIbHweKgEVAAAAEcq9YH8hz+TPW0A1s6PMbIGZLTSz8/t5/iwze9HM5prZE2Y2O1+1AQAAFLpimsmfl4BqZklJ10g6WtJsSSf3E0Bvc/c93X0fSVdKuioftQEAABSD3Jn88xu7lUoX5kSpfPWgHiBpobsvcvdOSXdIOj5zBXdfl7FYI6kwP1EAAIAIzBiX0JTKvmjX2u1auK47woo2nbmPfQ40sxMkHeXuZ4TLp0k60N3PyVnvbEnnSqqQ9D53bxhom83Nzb2FNzQMuBoAAEDJOOelSj3T1Deb/7KdO3TUFqkIK+pffX197+Pa2lrLfb4st2GMbLRj9dND6u7XSLrGzD4l6VuS/mM4G898k2OtoaEhr/tD/zgO8cBxiAeOQzxwHOKh1I/DQU3NeqZpQ+/yyoopqq+vjaSWzTkW+RriXypp64zlWZKWDbL+HZI+OqYVAQAAFJk9c2byv1igM/nzFVDnSKo3s+3NrELSSZLuz1zBzDIj9jGSGLcHAAAYgf6uhZqP0zlHW16G+N2928zOkfSQpKSkm919vpldKuk5d79f0jlm9gFJXZIaNczhfQAAAAR2nFimcWWm1vA2p2s70nq7JaVZ4/N1VufoyFu17v6ApAdy2i7KePzlfNUCAABQjJIJ0x515Xp2Vd81UOet7Sq4gMqdpAAAAIrIRneUKsBbnhJQAQAAikgx3PKUgAoAAFBE+psoVWgIqAAAAEVkt7pylWVcgX5pS0pr2+N3sf7BEFABAACKSGXStMuk7ElRL64trFueElABAACKzJ65w/xrOwdYM54IqAAAAEVmrykVWcsvFth5qARUAACAIlPoM/kJqAAAAEUmd4j/teZutXanI6pm5AioAAAARaa2IqHtJiR7l9MuvdxYOBOlCKgAAABFqJCvh0pABQAAKEIbTZQqoJn8BFQAAIAiRA8qAAAAYmXPnJn88xu71J32iKoZGQIqAABAEZpendC0qr6o156SGpoLY6IUARUAAKAImVnBXg+VgAoAAFCkCvU8VAIqAABAkdqoB3VNYczkJ6ACAAAUqb0mZ19qat7aLrnHf6IUARUAAKBIbT8xqQnl1rvc3Ola0pKKsKLhIaACAAAUqYSZ9ijA81AJqAAAAEVso4BaADP5CagAAABFrBBn8hNQAQAAiljuTP4XCagAAACI0m6TylWekfjebk1pTXu8J0oRUAEAAIpYRdK066TCGuYnoAIAABS5QrvlKQEVAACgyOVOlHqRgAoAAIAobXzLUwIqAAAAIrR7XXZAbWjuVktXOqJqhkZABQAAKHITKxLaYUKyd9klzW+Mby8qARUAAKAE7DWlIms5zsP8BFQAAIASUEgz+QmoAAAAJaCQbnlKQAUAACgBuT2oLzd2qSvtEVUzOAIqAABACdiiOqnp1X3RrzMtvdbUHWFFAyOgAgAAlIhCOQ+VgAoAAFAi9tzoPNTOiCoZHAEVAACgRGx0qSl6UAEAABCl3Jn8L67tknv8JkoRUAEAAErEthOSmlhuvcvrOl1vbkhFWFH/CKgAAAAlImGmPXJ6Uf8Vw+uhElABAABKSO5M/hdjeB4qARUAAKCEbHQeagxn8hNQAQAASkghzOQnoAIAAJSQXSaVqSIjAS5vTWtVW7wmShFQAQAASkh5wrRbXbzvKEVABQAAKDG556HOi9lMfgIqAABAicmdyV+yAdXMjjKzBWa20MzO7+f5c83sZTObZ2Z/MbNt81UbAABAKdmoB3VtvGby5yWgmllS0jWSjpY0W9LJZjY7Z7UXJO3v7ntJukvSlfmoDQAAoNTsPrlclrG8aF1K67vSkdWTK189qAdIWujui9y9U9Idko7PXMHd/+bureHi05Jm5ak2AACAkjK+PKGdast6l13S/BhNlMpXQJ0paUnG8tKwbSCfkfSnMa0IAACghMV5olTZ0KuMCuunzftd0exUSftLOmK4G29oaNjEsjZNvveH/nEc4oHjEA8ch3jgOMQDx2F4tvIySX0X7X9i8Rq9t3z5qO5joGNRX18/6OvyFVCXSto6Y3mWpGW5K5nZByRdKOkId+8Y7saHepOjqaGhIa/7Q/84DvHAcYgHjkM8cBzigeMwfO8b166rF6/pXV7cVa36+tGbo745xyJfQ/xzJNWb2fZmViHpJEn3Z65gZvtKukHSce6+Mk91AQAAlKTcS0290tSlzlS/A9x5l5eA6u7dks6R9JCkVyTd6e7zzexSMzsuXO2HksZL+p2ZzTWz+wfYHAAAADbT1KqkZozri4JdaenVpnich5qvIX65+wOSHshpuyjj8QfyVQsAAACkPadUaFlre+/yvLVd2mtKxSCvyA/uJAUAAFCicmfyvxiTmfwEVAAAgBK10S1PY3ItVAIqAABAicrsQZ1Vk9TW45MRVtMnb+egAgAAIF62GZ/UfR+eqj0nl2lyVTzCqURABQAAKFlmpiNmVEZdxkYY4gcAAECsEFABAAAQKwRUAAAAxAoBFQAAALFCQAUAAECsEFABAAAQKwRUAAAAxAoBFQAAALFCQAUAAECsEFABAAAQKwRUAAAAxAoBFQAAALFi7h51DZukubm5MAsHAABAr9raWsttowcVAAAAsUJABQAAQKwU7BA/AAAAihM9qAAAAIgVAioAAABihYAKAACAWCGgAgAAIFYIqMNkZkeZ2QIzW2hm50ddT6kys8Vm9qKZzTWz56Kup5SY2c1mttLMXspom2xmj5hZQ/hnXZQ1loIBjsMlZvZ2+L2Ya2YfibLGUmBmW5vZ38zsFTObb2ZfDtv5TuTRIMeB70QemVmVmT1rZv8Kj8N3wvbtzeyZ8PvwWzOrGPY2mcU/NDNLSnpN0gclLZU0R9LJ7v5ypIWVIDNbLGl/d18ddS2lxswOl7RB0q/cfY+w7UpJa939B+EvbnXu/s0o6yx2AxyHSyRtcPcfRVlbKTGzrSRt5e7Pm9kESf+U9FFJp4vvRN4MchxOFN+JvDEzk1Tj7hvMrFzSE5K+LOlcSfe4+x1mdr2kf7n7dcPZJj2ow3OApIXuvsjdOyXdIen4iGsC8srdH5O0Nqf5eEm/DB//UsH/GDCGBjgOyDN3X+7uz4eP10t6RdJM8Z3Iq0GOA/LIAxvCxfLwxyW9T9JdYfuIvg8E1OGZKWlJxvJS8QWIikt62Mz+aWafi7oYaEt3Xy4F/6OQtEXE9ZSyc8xsXngKAMPKeWRm20naV9Iz4jsRmZzjIPGdyCszS5rZXEkrJT0i6XVJTe7eHa4youxEQB2eje4RqyAoIf/e4+77STpa0tnhcCdQ6q6TtKOkfSQtl/Tf0ZZTOsxsvKS7JX3F3ddFXU+p6uc48J3IM3dPufs+kmYpGHnerb/Vhrs9AurwLJW0dcbyLEnLIqqlpLn7svDPlZJ+r+BLgOi8E54D1nMu2MqI6ylJ7v5O+D+HtKQbxfciL8Jz7e6W9Bt3vyds5juRZ/0dB74T0XH3Jkl/l3SQpElmVhY+NaLsREAdnjmS6sPZaBWSTpJ0f8Q1lRwzqwlPgpeZ1Uj6kKSXBn8Vxtj9kv4jfPwfku6LsJaS1ROIQh8T34sxF04KuUnSK+5+VcZTfCfyaKDjwHciv8xsmplNCh9XS/qAgvOB/ybphHC1EX0fmMU/TOElKn4iKSnpZne/POKSSo6Z7aCg11SSyiTdxnHIHzO7XdKRkqZKekfSxZLulXSnpG0kvSXpE+7OBJ4xNMBxOFLBUKZLWizpzJ7zIDE2zOxQSY9LelFSOmz+LwXnP/KdyJNBjsPJ4juRN2a2l4JJUEkFnZ93uvul4f+375A0WdILkk51945hbZOACgAAgDhhiB8AAACxQkAFAABArBBQAQAAECsEVAAAAMQKARUAAACxQkAFUJLMbEN4CZR87nO2mT2Xx/25me2Up30tNrMP5HN7Zralmb1iZpWjtV8A8UBABZB3meHDzE43syfGeH9/N7MzMtvcfby7LxrL/fbjMkk/yvM+i5a7v6PgQuCfi7oWAKOLgAqgoGXcRi/WwjvbvFfBzQ1Ge9ux/gzGuL7fSDpzDLcPIAIEVACRMbPdJF0v6eBwyL0pbK80sx+Z2Vtm9o6ZXR/ePk9mdqSZLTWzb5rZCkm3mFmdmf3BzFaZWWP4eFa4/uWSDpN0dbiPq8P23uFvM6s1s1+Fr3/TzL5lZonwudPN7ImwnkYze8PMjs54D6eb2SIzWx8+d8oAb/eDkp539/aM1y42swvM7OVw27eYWVXG88ea2VwzazKzJ8O7tWS+9ptmNk9SyyAh8ANm1hBu/5rw1pAys0vM7NaM7W0XfiZl4fLfzewyM/tH+N4eNrOpGeufFn5Wa8zswpzjeomZ3WVmt5rZOkmnm1nCzM43s9fD19xpZpOHub0DzOw5M1sX/n3IvLXoM5J2MLNtB3j/AAoQARVAZNz9FUlnSXoqHHKfFD51haSdFdyqcCdJMyVdlPHS6QpunbetguHdhKRbwuVtJLVJujrcx4UKboV4TriPc/op5eeSaiXtIOkISZ+W9J8Zzx8oaYGC24teKekmC9RI+pmko919gqRDJM0d4O3uGW4j1ymSPixpx/A9f0uSzGw/STcr6B2cIukGSffnnG95sqRjJE1y9+4B9nuspHdL2lvSieG+hutTCj6HLSRVSPp6WNtsSddJOk3SjLC+WTmvPV7SXZImKejl/JKkjyr4fGdIapR0zTC391NJP3X3iQo+pzt7ngjf98Lw/QEoEgRUALES9vB9VtJX3X2tu6+X9D1JJ2WslpZ0sbt3uHubu69x97vdvTVc/3IFQWg4+0tK+qSkC9x9vbsvlvTfCsJSjzfd/UZ3Tym43/RWkrbMqGUPM6t29+XuPn+AXU2StL6f9qvdfUl4v/bLFYROhZ/BDe7+jLun3P2XkjokHZTx2p+Fr20b5C3+wN2b3P0tBedr7jPIurlucffXwu3fmfHaEyT9wd0fC++r/W313Qe9x1Pufq+7p8PXnynpQndfGr7mEkknhD22Q22vS9JOZjbV3Te4+9M5+1qv4PMFUCQIqADiZpqkcZL+GQ5tN0l6MGzvsSpnqHycmd0QDhGvk/SYpElh+BzKVAW9g29mtL2poNe2x4qeB+7eGj4c7+4tCsLtWZKWm9kfzWzXAfbTKGlCP+1LcvY7I3y8raSv9XwG4eewdcbzua8dyIqMx62Sxg/jNUO9dkbmvsPPYU3Oa3Nr21bS7zPeyyuSUgqC/lDb+4yC3uVXzWyOmR2bs+0JkppG8L4AxBwBFUDUPGd5tYIh+t3dfVL4U+vu4wd5zdck7SLpwHAY+PCw3QZYP3d/XQoCVI9tJL09rOLdH3L3DyroVX1V0o0DrDpPQcjKtXXOfpeFj5dIujzjM5jk7uPc/fbM3Q+nxgG0KPhFoMf0Ebx2uTLqNrNxCoblM+XWtkTBqRCZ76fK3d8eanvu3uDuJys41eAKSXeFp1f0TMDaSdK/RlA/gJgjoAKI2juSZplZhSS5e1pByPuxmW0hSWY208wGO3dygoJQ2xROvLm4n330e83TcNj+TkmXm9mEcLLNuZJu7W/9TBZch/O4MCx1SNqgoFewP49I2i9zElTobDObFdb9X5J+G7bfKOksMzuw53xXMzvGzPrrhd0UcyUdbmbbmFmtpAtG8Nq7JB1rZoeGx+1SDf3/k+sVfMbbSpKZTTOz44ezPTM71cymhX83enpKez7nAyQtdvfMHnAABY6ACiBqf5U0X9IKM1sdtn1TwcSXp8Mh+z8r6CEdyE8kVSvoDX1awSkBmX6q4HzHRjP7WT+v/6KCHsVFkp6QdJuCCUpDSSjovV0maa2C816/0N+K4TU7/6pg8lCm2yQ9HO57kaTvhus/p+A81KsVnB6wUNLpw6hpWNz9EQVheJ6kf0r6wwheO1/S2WHty8P6lg7xsp9Kul/Sw2a2XsFxOnCY2ztK0nwz2xBu56SMUzxOURB+ARQRc9+cESIAwHCFs9V/KekAd3czWyzpDHf/c7SVFaawh/1RSftmnpMMoPDF+uLOAFBM3P1lBZd8wihw95WSdou6DgCjjyF+AAAAxApD/AAAAIgVelABAAAQKwRUAAAAxAoBFQAAALFCQAUAAECsEFABAAAQKwRUAAAAxMr/B9l3n9NOPD7GAAAAAElFTkSuQmCC\n",
      "text/plain": [
       "<matplotlib.figure.Figure at 0x1161e0470>"
      ]
     },
     "metadata": {},
     "output_type": "display_data"
    }
   ],
   "source": [
    "# NN with relu activation fn\n",
    "parameters_relu = L_layer_model(\n",
    "    X_train, y_train, layers_dims, learning_rate=0.03, num_iterations=3000,\n",
    "    hidden_layers_activation_fn=\"relu\")\n",
    "\n",
    "# Print the accuracy\n",
    "accuracy(X_test, parameters_relu, y_test, activation_fn=\"relu\")"
   ]
  },
  {
   "cell_type": "markdown",
   "metadata": {},
   "source": [
    "<h2 style=\"font-family: Georgia; font-size:2em;color:purple; font-style:bold\">\n",
    "Conclusion\n",
    "</h2>"
   ]
  },
  {
   "cell_type": "markdown",
   "metadata": {},
   "source": [
    "The purpose of this notebook is to code Deep Neural Network step-by-step and explain the important concepts while doing that. We don't really care about the accuracy rate at this moment since there are tons of things we could've done to increase the accuracy which would be the subject of following notebooks. Below are some takeaways:\n",
    "- Even if neural network can represent any function, it may fail to learn for two reasons:\n",
    "    1. The optimization algorithm may fail to find the best value for the parameters of the desired (true) function.\n",
    "        It can stuck in a local optimum.\n",
    "    2. The learning algorithm may find different functional form that is different than the intended function due to overfitting.\n",
    "- Even if neural network rarely converges and always stuck in a local minimum, it is still able to reduce the cost significantly and come up with very complex models with high test accuracy.\n",
    "- The neural network we used in this notebook is standard fully connected network. However, there are two other kinds of networks:\n",
    "    - Convolutional NN: Where not all nodes are connected. It's best in class for image recognition.\n",
    "    - Recurrent NN: There is a feedback connections where output of the model is fed back into itself. It's used mainly in sequence modeling.\n",
    "- The fully connected neural network also forgets what happened in previous steps and also doesn't know anything about the output.\n",
    "- There are number of hyperparameters that we can tune using cross validation to get the best performance of our network:\n",
    "    1. Learning rate ($\\alpha$): Determines how big the step for each update of parameters.\n",
    "        - Small $\\alpha$ leads to slow convergence and may become computationally very expensive.\n",
    "        - Large $\\alpha$ may lead to overshooting where our learning algorithm may never converge.\n",
    "    2. Number of hidden layers (depth): The more hidden layers the better, but comes at a cost computationally.\n",
    "    3. Number of units per hidden layer (width): Research proven that huge number of hidden units per layer doesn't add to the improvement of the network.\n",
    "    4. Activation function: Which function to use on hidden layers differs among applications and domains. It's a trial and error process to try different functions and see which one works best.\n",
    "    5. Number of iterations.\n",
    "- Standardize data would help activation units have similar range of values and avoid gradients to go out of control."
   ]
  }
 ],
 "metadata": {
  "kernelspec": {
   "display_name": "Python 3",
   "language": "python",
   "name": "python3"
  },
  "language_info": {
   "codemirror_mode": {
    "name": "ipython",
    "version": 3
   },
   "file_extension": ".py",
   "mimetype": "text/x-python",
   "name": "python",
   "nbconvert_exporter": "python",
   "pygments_lexer": "ipython3",
  }
 },
 "nbformat": 4,
 "nbformat_minor": 2
}
